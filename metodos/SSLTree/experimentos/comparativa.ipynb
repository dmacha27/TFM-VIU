{
 "cells": [
  {
   "metadata": {
    "ExecuteTime": {
     "end_time": "2024-06-18T07:34:32.433804Z",
     "start_time": "2024-06-18T07:34:26.962274Z"
    }
   },
   "cell_type": "code",
   "source": [
    "from metodos.SSLTree.utils.Experiments import cross_val, cross_val_ssl, names\n",
    "\n",
    "from scipy.stats import rankdata\n",
    "import numpy as np\n",
    "import warnings\n",
    "import pandas as pd\n",
    "import matplotlib.pyplot as plt\n",
    "import scikit_posthocs as sp"
   ],
   "id": "3613dfe07491ca4d",
   "execution_count": 1,
   "outputs": []
  },
  {
   "metadata": {},
   "cell_type": "markdown",
   "source": "# Comparativa entre SSLTree, DT y SelfTraining",
   "id": "aa011e02d2a23d1d"
  },
  {
   "metadata": {
    "ExecuteTime": {
     "end_time": "2024-06-18T07:34:32.436513Z",
     "start_time": "2024-06-18T07:34:32.433804Z"
    }
   },
   "cell_type": "code",
   "source": [
    "# entropy\n",
    "# gini\n",
    "CRITERION = \"entropy\""
   ],
   "id": "3016a877bb64e66b",
   "execution_count": 2,
   "outputs": []
  },
  {
   "metadata": {},
   "cell_type": "code",
   "source": [
    "all_means = {}\n",
    "\n",
    "for i, p in enumerate([\"10\", \"20\", \"30\", \"40\"]):\n",
    "    print(\"PERCENTAGE:\", p)\n",
    "    means_ssl = []\n",
    "    means_dt = []\n",
    "    means_st = []\n",
    "    for name in names:\n",
    "        print(\"\\tDATASET:\", name)\n",
    "        m_ssl, m_dt, m_st = cross_val(name, p, criterion=CRITERION)\n",
    "\n",
    "        np.save(f\"comparativa/{CRITERION}/{p}/{name}_means.npy\", np.array([m_ssl, m_dt, m_st]))\n",
    "\n",
    "        means_ssl.append(m_ssl)\n",
    "        means_dt.append(m_dt)\n",
    "        means_st.append(m_st)\n",
    "\n",
    "    all_means[p] = np.stack((means_ssl, means_dt, means_st))\n",
    "np.save(f\"comparativa/{CRITERION}/all_means.npy\", all_means)\n",
    "print(\"Resultados guardados\")"
   ],
   "id": "initial_id",
   "execution_count": null,
   "outputs": []
  },
  {
   "metadata": {
    "ExecuteTime": {
     "end_time": "2024-05-30T10:42:33.894221Z",
     "start_time": "2024-05-30T10:42:33.881149Z"
    }
   },
   "cell_type": "code",
   "source": [
    "def plot_comparativa(name):\n",
    "    means = []\n",
    "    for p in [\"10\", \"20\", \"30\", \"40\"]:\n",
    "        means.append(np.load(f\"comparativa/{CRITERION}/{p}/{name}_means.npy\"))\n",
    "    means = np.array(means).T\n",
    "    \n",
    "    classifiers = [\"SSLTree\", \"DecisionTree\", \"SelfTraining\"]\n",
    "    for j, classifier in enumerate(classifiers):\n",
    "        plt.plot([\"10%\", \"20%\", \"30%\", \"40%\"], means[j],marker='o', label=classifier)\n",
    "    \n",
    "    plt.xlabel(\"Porentaje de etiquetados\")\n",
    "    plt.ylabel(\"Accuracy\")\n",
    "    plt.title(\"Dataset: \" + name)\n",
    "    \n",
    "    plt.legend()\n",
    "    plt.show()"
   ],
   "id": "d356e1e2d24fcd19",
   "execution_count": 104,
   "outputs": []
  },
  {
   "metadata": {
    "ExecuteTime": {
     "end_time": "2024-05-30T10:42:35.347512Z",
     "start_time": "2024-05-30T10:42:35.250634Z"
    }
   },
   "cell_type": "code",
   "source": "plot_comparativa(\"appendicitis\")",
   "id": "94f99f566b5d1852",
   "execution_count": 105,
   "outputs": []
  },
  {
   "metadata": {
    "ExecuteTime": {
     "end_time": "2024-05-30T10:42:47.316375Z",
     "start_time": "2024-05-30T10:42:47.217378Z"
    }
   },
   "cell_type": "code",
   "source": "plot_comparativa(\"australian\")",
   "id": "ae0a5a467cfb9e11",
   "execution_count": 108,
   "outputs": []
  },
  {
   "metadata": {
    "ExecuteTime": {
     "end_time": "2024-05-30T10:42:46.037969Z",
     "start_time": "2024-05-30T10:42:45.921398Z"
    }
   },
   "cell_type": "code",
   "source": "plot_comparativa(\"yeast\")",
   "id": "21fbba084e5b32da",
   "execution_count": 107,
   "outputs": []
  },
  {
   "metadata": {
    "ExecuteTime": {
     "end_time": "2024-06-17T10:45:46.286080Z",
     "start_time": "2024-06-17T10:45:46.267816Z"
    }
   },
   "cell_type": "code",
   "source": [
    "all_means = np.load(f\"comparativa/{CRITERION}/all_means.npy\", allow_pickle=True).item()\n",
    "all_mean_rankings = np.empty((3, 4))\n",
    "\n",
    "for i, p in enumerate([\"10\", \"20\", \"30\", \"40\"]):\n",
    "    rankings = rankdata(-all_means[p], method=\"average\", axis=0)\n",
    "    \n",
    "    all_mean_rankings[:, i] = np.mean(rankings, axis=1)"
   ],
   "id": "3e288dba60b004a4",
   "execution_count": 12,
   "outputs": []
  },
  {
   "metadata": {
    "ExecuteTime": {
     "end_time": "2024-06-17T10:45:47.581497Z",
     "start_time": "2024-06-17T10:45:47.463745Z"
    }
   },
   "cell_type": "code",
   "source": [
    "plt.figure(figsize=(10, 6))\n",
    "\n",
    "classifiers = [\"SSLTree\", \"DecisionTree\", \"SelfTraining\"]\n",
    "for j, classifier in enumerate(classifiers):\n",
    "    plt.plot([\"10%\", \"20%\", \"30%\", \"40%\"], all_mean_rankings[j], marker=\"o\", label=classifier)\n",
    "\n",
    "plt.ylim(1, 3)\n",
    "plt.xlabel(\"Porentaje de etiquetados\")\n",
    "plt.ylabel(\"Ranking\")\n",
    "plt.title(\"Comparativa SSLTree, DT y ST\")\n",
    "\n",
    "plt.legend()\n",
    "plt.show()"
   ],
   "id": "715a191e4536e55b",
   "execution_count": 13,
   "outputs": []
  },
  {
   "metadata": {},
   "cell_type": "markdown",
   "source": "# Nemenyi Test",
   "id": "4b2be6166da3626"
  },
  {
   "metadata": {
    "ExecuteTime": {
     "end_time": "2024-06-18T08:35:32.979883Z",
     "start_time": "2024-06-18T08:35:32.962102Z"
    }
   },
   "cell_type": "code",
   "source": [
    "def nemenyi_test(matrix, p, model_names):\n",
    "\n",
    "    dict_data = {\n",
    "        model_names[0]: matrix[0, :],\n",
    "        model_names[1]: matrix[1, :],\n",
    "        model_names[2]: matrix[2, :]\n",
    "    }\n",
    "    \n",
    "    data_list = [dict_data[key] for key in dict_data]\n",
    "\n",
    "    results = np.array(data_list).T\n",
    "\n",
    "    nemenyi_result = sp.posthoc_nemenyi_friedman(results)\n",
    "    \n",
    "    colors = {\n",
    "        model_names[0]: \"#1f77b4\",\n",
    "        model_names[1]: \"#ff7f0e\",\n",
    "        model_names[2]: \"#2ca02c\"\n",
    "    }\n",
    "    \n",
    "    ranks = pd.DataFrame(-results).rank(axis=1, method='average').mean(axis=0)\n",
    "    ranks.index = list(dict_data.keys())\n",
    "    with warnings.catch_warnings():\n",
    "        warnings.simplefilter(\"ignore\")\n",
    "        plt.figure(figsize=(10, 2), dpi=100)\n",
    "        plt.title(\"Nemenyi Test para \" + p + \" de etiquetados\", pad=10)\n",
    "        sp.critical_difference_diagram(ranks, nemenyi_result, label_fmt_left='{label} [{rank:.3f}]  ',\n",
    "                                       label_fmt_right='  [{rank:.3f}] {label}', color_palette=colors)\n",
    "        plt.show()"
   ],
   "id": "6d491ec2ef1fa372",
   "execution_count": 6,
   "outputs": []
  },
  {
   "metadata": {
    "ExecuteTime": {
     "end_time": "2024-06-17T10:45:55.145398Z",
     "start_time": "2024-06-17T10:45:54.587913Z"
    }
   },
   "cell_type": "code",
   "source": [
    "nemenyi_test(all_means[\"10\"], \"10%\", ['SSLTree', 'DecisionTree', 'SelfTrainig(DT)'])\n",
    "nemenyi_test(all_means[\"20\"], \"20%\", ['SSLTree', 'DecisionTree', 'SelfTrainig(DT)'])\n",
    "nemenyi_test(all_means[\"30\"], \"30%\", ['SSLTree', 'DecisionTree', 'SelfTrainig(DT)'])\n",
    "nemenyi_test(all_means[\"40\"], \"40%\", ['SSLTree', 'DecisionTree', 'SelfTrainig(DT)'])"
   ],
   "id": "2162bbfb27ad2911",
   "execution_count": 15,
   "outputs": []
  },
  {
   "metadata": {},
   "cell_type": "markdown",
   "source": "# Evaluación Bagging (SSLTree), CoForest(SSLTree) y SelfTraining (Random Forest)",
   "id": "4d7c5427697de08b"
  },
  {
   "metadata": {
    "ExecuteTime": {
     "end_time": "2024-06-01T13:00:52.531285Z",
     "start_time": "2024-06-01T11:09:03.551114Z"
    }
   },
   "cell_type": "code",
   "source": [
    "all_means_ensembles = {}\n",
    "\n",
    "for i, p in enumerate([\"10\", \"20\", \"30\", \"40\"]):\n",
    "    print(\"PERCENTAGE:\", p)\n",
    "    means_randomforest= []\n",
    "    means_coforest = []\n",
    "    means_selftraining = []\n",
    "    for name in names:\n",
    "        print(\"\\tDATASET:\", name)\n",
    "        m_randomforest, m_coforest, m_selftraining = cross_val_ssl(name, p, criterion=CRITERION)\n",
    "\n",
    "        np.save(f\"comparativa-ensembles/{CRITERION}/{p}/{name}_means.npy\", np.array([m_randomforest, m_coforest, m_selftraining]))\n",
    "\n",
    "        means_randomforest.append(m_randomforest)\n",
    "        means_coforest.append(m_coforest)\n",
    "        means_selftraining.append(m_selftraining)\n",
    "\n",
    "    all_means_ensembles[p] = np.stack((means_randomforest, means_coforest, means_selftraining))\n",
    "np.save(f\"comparativa-ensembles/{CRITERION}/all_means.npy\", all_means_ensembles)\n",
    "print(\"Resultados guardados\")"
   ],
   "id": "53fcf7f0c6b23394",
   "execution_count": 3,
   "outputs": []
  },
  {
   "metadata": {
    "ExecuteTime": {
     "end_time": "2024-06-18T07:34:35.119612Z",
     "start_time": "2024-06-18T07:34:35.102778Z"
    }
   },
   "cell_type": "code",
   "source": [
    "all_means_ensembles = np.load(f\"comparativa-ensembles/{CRITERION}/all_means.npy\", allow_pickle=True).item()\n",
    "all_mean_rankings_ensembles = np.empty((3, 4))\n",
    "\n",
    "for i, p in enumerate([\"10\", \"20\", \"30\", \"40\"]):\n",
    "    rankings = rankdata(-all_means_ensembles[p], method=\"average\", axis=0)\n",
    "    \n",
    "    all_mean_rankings_ensembles[:, i] = np.mean(rankings, axis=1)"
   ],
   "id": "c8dd022cba4d3275",
   "execution_count": 3,
   "outputs": []
  },
  {
   "metadata": {
    "ExecuteTime": {
     "end_time": "2024-06-18T07:34:54.839534Z",
     "start_time": "2024-06-18T07:34:54.641179Z"
    }
   },
   "cell_type": "code",
   "source": [
    "plt.figure(figsize=(10, 6))\n",
    "\n",
    "classifiers = [\"RandomForest(SSLTree)\", \"CoForest(SSLTree)\", \"SelfTraining(RF)\"]\n",
    "for j, classifier in enumerate(classifiers):\n",
    "    plt.plot([\"10%\", \"20%\", \"30%\", \"40%\"], all_mean_rankings_ensembles[j], marker=\"o\", label=classifier)\n",
    "\n",
    "plt.ylim(1, 3)\n",
    "plt.xlabel(\"Porentaje de etiquetados\")\n",
    "plt.ylabel(\"Ranking\")\n",
    "plt.title(\"Comparativa RandomForest(SSLTree), CoForest(SSLTree) y SelfTraining(RF)\")\n",
    "\n",
    "plt.legend()\n",
    "plt.show()"
   ],
   "id": "192b39352ae23e88",
   "execution_count": 4,
   "outputs": []
  },
  {
   "metadata": {
    "ExecuteTime": {
     "end_time": "2024-06-18T08:35:37.464133Z",
     "start_time": "2024-06-18T08:35:36.881618Z"
    }
   },
   "cell_type": "code",
   "source": [
    "nemenyi_test(all_means_ensembles[\"10\"], \"10%\", [\"RandomForest(SSLTree)\", \"CoForest(SSLTree)\", \"SelfTraining(RF)\"])\n",
    "nemenyi_test(all_means_ensembles[\"20\"], \"20%\", [\"RandomForest(SSLTree)\", \"CoForest(SSLTree)\", \"SelfTraining(RF)\"])\n",
    "nemenyi_test(all_means_ensembles[\"30\"], \"30%\", [\"RandomForest(SSLTree)\", \"CoForest(SSLTree)\", \"SelfTraining(RF)\"])\n",
    "nemenyi_test(all_means_ensembles[\"40\"], \"40%\", [\"RandomForest(SSLTree)\", \"CoForest(SSLTree)\", \"SelfTraining(RF)\"])"
   ],
   "id": "32fe34069500e870",
   "execution_count": 7,
   "outputs": []
  }
 ],
 "metadata": {
  "kernelspec": {
   "display_name": "Python 3",
   "language": "python",
   "name": "python3"
  },
  "language_info": {
   "codemirror_mode": {
    "name": "ipython",
    "version": 2
   },
   "file_extension": ".py",
   "mimetype": "text/x-python",
   "name": "python",
   "nbconvert_exporter": "python",
   "pygments_lexer": "ipython2",
   "version": "2.7.6"
  }
 },
 "nbformat": 4,
 "nbformat_minor": 5
}
