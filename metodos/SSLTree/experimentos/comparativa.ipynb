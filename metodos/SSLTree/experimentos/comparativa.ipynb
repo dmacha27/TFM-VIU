{
 "cells": [
  {
   "metadata": {
    "ExecuteTime": {
     "end_time": "2024-05-26T18:36:06.422268Z",
     "start_time": "2024-05-26T18:36:05.897337Z"
    }
   },
   "cell_type": "code",
   "source": [
    "from sklearn.tree import DecisionTreeClassifier\n",
    "\n",
    "from metodos.SSLTree.utils.Experiments import cross_val, names\n",
    "\n",
    "import numpy as np\n",
    "import matplotlib.pyplot as plt\n",
    "from scipy.stats import rankdata"
   ],
   "id": "3613dfe07491ca4d",
   "execution_count": 85,
   "outputs": []
  },
  {
   "metadata": {},
   "cell_type": "markdown",
   "source": "# Comparativa entre SSLTree, DT y SelfTraining",
   "id": "aa011e02d2a23d1d"
  },
  {
   "metadata": {
    "ExecuteTime": {
     "end_time": "2024-05-26T18:36:18.547885Z",
     "start_time": "2024-05-26T18:36:07.166297Z"
    }
   },
   "cell_type": "code",
   "source": [
    "all_medians = {}\n",
    "\n",
    "all_mean_rankings = np.empty((3, 4))\n",
    "\n",
    "for i, p in enumerate([\"10\", \"20\", \"30\", \"40\"]):\n",
    "    medians_ssl = []\n",
    "    medians_dt = []\n",
    "    medians_st = []\n",
    "    for name in names:\n",
    "        m_ssl, m_dt, m_st = cross_val(name, p)\n",
    "        # break\n",
    "        medians_ssl.append(m_ssl)\n",
    "        medians_dt.append(m_dt)\n",
    "        medians_st.append(m_st)\n",
    "    # break\n",
    "    print(medians_ssl)\n",
    "    print(medians_dt)\n",
    "    print(medians_st)\n",
    "\n",
    "    all_medians[p] = np.stack((medians_ssl, medians_dt, medians_st))\n",
    "\n",
    "    rankings = rankdata(-all_medians[p], method=\"average\", axis=0)\n",
    "    print(rankings)\n",
    "\n",
    "    all_mean_rankings[:, i] = np.mean(rankings, axis=1)\n",
    "\n",
    "final_rankings = rankdata(all_mean_rankings, method=\"average\", axis=0)\n",
    "print(all_mean_rankings)"
   ],
   "id": "initial_id",
   "execution_count": 86,
   "outputs": []
  },
  {
   "metadata": {
    "ExecuteTime": {
     "end_time": "2024-05-26T18:00:36.418871Z",
     "start_time": "2024-05-26T18:00:36.274537Z"
    }
   },
   "cell_type": "code",
   "source": [
    "plt.figure(figsize=(10, 6))\n",
    "\n",
    "for i, percentage in enumerate([\"10%\", \"20%\", \"30%\", \"40%\"]):\n",
    "    top = all_mean_rankings[:, i].copy()\n",
    "    uniques, _ = np.unique(top, return_counts=True)\n",
    "\n",
    "    displacement = 0.05 * np.linspace(-1, 1, len(uniques), endpoint=False)\n",
    "    dup = 0\n",
    "    for j, value in enumerate(top):\n",
    "        if np.count_nonzero(top == value) > 1:\n",
    "            all_mean_rankings[j][i] += displacement[dup] if dup < len(displacement) else 0\n",
    "            dup += 1\n",
    "\n",
    "classifiers = [\"SSLTree\", \"DecisionTree\", \"SelfTraining\"]\n",
    "for j, classifier in enumerate(classifiers):\n",
    "    plt.scatter([\"10%\", \"20%\", \"30%\", \"40%\"], all_mean_rankings[j], label=classifier)\n",
    "\n",
    "plt.ylim(1, 3)\n",
    "plt.xlabel(\"Porentaje de etiquetados\")\n",
    "plt.ylabel(\"Ranking\")\n",
    "plt.title(\"Comparativa SSLTree, DT y ST\")\n",
    "\n",
    "plt.legend()\n",
    "plt.show()\n"
   ],
   "id": "715a191e4536e55b",
   "execution_count": 3,
   "outputs": []
  },
  {
   "metadata": {
    "ExecuteTime": {
     "end_time": "2024-05-26T18:02:05.194335Z",
     "start_time": "2024-05-26T18:02:04.562194Z"
    }
   },
   "cell_type": "code",
   "source": [
    "import numpy as np\n",
    "import pandas as pd\n",
    "import matplotlib.pyplot as plt\n",
    "import scikit_posthocs as sp\n",
    "\n",
    "np.random.default_rng(1)\n",
    "dict_data = {\n",
    "    'model1': np.random.normal(loc=0.2, scale=0.1, size=30),\n",
    "    'model2': np.random.normal(loc=0.2, scale=0.1, size=30),\n",
    "    'model3': np.random.normal(loc=0.4, scale=0.1, size=30),\n",
    "    'model4': np.random.normal(loc=0.5, scale=0.1, size=30),\n",
    "    'model5': np.random.normal(loc=0.7, scale=0.1, size=30),\n",
    "    'model6': np.random.normal(loc=0.7, scale=0.1, size=30),\n",
    "    'model7': np.random.normal(loc=0.8, scale=0.1, size=30),\n",
    "    'model8': np.random.normal(loc=0.9, scale=0.1, size=30),\n",
    "}\n",
    "\n",
    "data_list = [dict_data[key] for key in dict_data]\n",
    "\n",
    "results = np.array(data_list).T\n",
    "\n",
    "nemenyi_result = sp.posthoc_nemenyi_friedman(results)\n",
    "\n",
    "ranks = np.mean(pd.DataFrame(-results).rank(axis=1, method='average'), axis=0)\n",
    "print(\"Ranks promedio:\", ranks)\n",
    "\n",
    "plt.figure(figsize=(10, 2), dpi=100)\n",
    "\n",
    "plt.title('Critical difference diagram of average score ranks')\n",
    "\n",
    "sp.critical_difference_diagram(ranks, nemenyi_result)\n",
    "plt.show()"
   ],
   "id": "6358c379226314a6",
   "execution_count": 5,
   "outputs": []
  },
  {
   "metadata": {
    "ExecuteTime": {
     "end_time": "2024-05-26T18:34:56.049055Z",
     "start_time": "2024-05-26T18:34:56.040053Z"
    }
   },
   "cell_type": "code",
   "source": [
    "from metodos.SSLTree.SSLTree import SSLTree\n",
    "from sklearn.datasets import load_iris\n",
    "from sklearn.tree import DecisionTreeClassifier\n",
    "from sklearn.semi_supervised import SelfTrainingClassifier\n",
    "from sslearn.wrapper import CoForest\n",
    "from sslearn.model_selection import artificial_ssl_dataset\n",
    "\n",
    "X, y = load_iris(return_X_y=True)\n",
    "X, y, X_unlabel, y_unlabel = artificial_ssl_dataset(X, y, label_rate=0.1, random_state=0)\n",
    "coforest = SelfTrainingClassifier(DecisionTreeClassifier())\n",
    "coforest.fit(X, y)\n",
    "coforest.score(X_unlabel, y_unlabel)"
   ],
   "id": "b941a059a46a3d0e",
   "execution_count": 83,
   "outputs": []
  }
 ],
 "metadata": {
  "kernelspec": {
   "display_name": "Python 3",
   "language": "python",
   "name": "python3"
  },
  "language_info": {
   "codemirror_mode": {
    "name": "ipython",
    "version": 2
   },
   "file_extension": ".py",
   "mimetype": "text/x-python",
   "name": "python",
   "nbconvert_exporter": "python",
   "pygments_lexer": "ipython2",
   "version": "2.7.6"
  }
 },
 "nbformat": 4,
 "nbformat_minor": 5
}
