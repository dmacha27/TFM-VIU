{
 "cells": [
  {
   "cell_type": "code",
   "id": "initial_id",
   "metadata": {
    "collapsed": true,
    "ExecuteTime": {
     "end_time": "2024-05-31T15:04:57.230108Z",
     "start_time": "2024-05-31T15:04:55.833377Z"
    }
   },
   "source": [
    "from metodos.SSLTree.utils.Experiments import estudio_w, plot_estudio_w, plot_estudio_w_expandido, w_heatmap, names\n",
    "\n",
    "import numpy as np\n",
    "from scipy.stats import rankdata\n",
    "import os\n",
    "from concurrent.futures import ThreadPoolExecutor"
   ],
   "execution_count": 1,
   "outputs": []
  },
  {
   "metadata": {},
   "cell_type": "markdown",
   "source": [
    "# Influencia del parámetro w\n",
    "\n",
    "Previsiblemente, el parámetro w es muy dependiente del propio dataset. Relacionado del mismo modo con las suposiciones del aprendizaje Semi-Supervisado (en algún caso, SSLTree no mejorará un modelo supervisado)."
   ],
   "id": "41f490f2df227782"
  },
  {
   "metadata": {
    "ExecuteTime": {
     "end_time": "2024-05-31T15:04:57.278119Z",
     "start_time": "2024-05-31T15:04:57.273118Z"
    }
   },
   "cell_type": "code",
   "source": [
    "# entropy\n",
    "# gini\n",
    "CRITERION = \"entropy\""
   ],
   "id": "4a8a5b87f25d71f5",
   "execution_count": 2,
   "outputs": []
  },
  {
   "metadata": {
    "ExecuteTime": {
     "end_time": "2024-05-30T10:57:51.676224Z",
     "start_time": "2024-05-30T10:49:37.356875Z"
    }
   },
   "cell_type": "code",
   "source": "accuracies_wine = estudio_w(\"wine\", parallel=True, criterion=CRITERION)",
   "id": "6a9946a5a07682bd",
   "execution_count": 3,
   "outputs": []
  },
  {
   "metadata": {
    "ExecuteTime": {
     "end_time": "2024-05-30T11:00:16.526099Z",
     "start_time": "2024-05-30T11:00:15.840953Z"
    }
   },
   "cell_type": "code",
   "source": [
    "plot_estudio_w_expandido(accuracies_wine, \"wine\")\n",
    "plot_estudio_w(accuracies_wine, \"wine\")"
   ],
   "id": "4ac0a77306c13c89",
   "execution_count": 4,
   "outputs": []
  },
  {
   "metadata": {
    "ExecuteTime": {
     "end_time": "2024-05-30T11:01:08.645331Z",
     "start_time": "2024-05-30T11:00:23.618852Z"
    }
   },
   "cell_type": "code",
   "source": "accuracies_tae = estudio_w(\"tae\", parallel=True, criterion=CRITERION)",
   "id": "d647a2050df6aaef",
   "execution_count": 5,
   "outputs": []
  },
  {
   "metadata": {
    "ExecuteTime": {
     "end_time": "2024-05-30T11:01:09.196535Z",
     "start_time": "2024-05-30T11:01:08.645331Z"
    }
   },
   "cell_type": "code",
   "source": [
    "plot_estudio_w_expandido(accuracies_tae, \"tae\")\n",
    "plot_estudio_w(accuracies_tae, \"tae\")"
   ],
   "id": "ae189bb7765fb133",
   "execution_count": 6,
   "outputs": []
  },
  {
   "metadata": {},
   "cell_type": "markdown",
   "source": [
    "Tal y como los autores indicaron, el parámetro resulta ser muy dependiente del conjunto de datos.\n",
    "\n",
    "Estos resultados indican:\n",
    "- El parámetro w es beneficioso y **podría** mejorar el rendimiento del modelo con la salvedad de que, previsiblemente, para aquellos conjuntos de datos que no cumplan las suposiciones del semi-supervisado, el mejor modelo será un supervisado (parámetro w = 1).\n",
    "- El porcentaje de etiquetados tiene un papel muy importante.\n",
    "- Será necesario establecer un parámetro w personalizado para cada conjunto de datos."
   ],
   "id": "6427ca54d48dcae5"
  },
  {
   "metadata": {},
   "cell_type": "markdown",
   "source": [
    "# Experimentación parámetro w para cada dataset\n",
    "\n",
    "Los resultados de este análisis servirán para extraer conclusiones del parámetros y seleccionar el mejor de ellos para iniciar después la comparación con otros modelos."
   ],
   "id": "ca37164dedd38053"
  },
  {
   "metadata": {},
   "cell_type": "markdown",
   "source": [
    "## Ejecutar todos los datasets\n",
    "\n",
    "Los resultados se guardan en *experimentos/w/criterion*"
   ],
   "id": "7aa069cf2e397e12"
  },
  {
   "metadata": {
    "ExecuteTime": {
     "end_time": "2024-05-26T16:14:58.757332Z",
     "start_time": "2024-05-26T16:14:58.748330Z"
    }
   },
   "cell_type": "code",
   "source": [
    "def job(name):\n",
    "     # El flip es para que las filas vayan de mayor w a menor w\n",
    "    return np.flip(estudio_w(name, criterion=CRITERION).T, axis=0)"
   ],
   "id": "3dba1c38f87324c0",
   "execution_count": 4,
   "outputs": []
  },
  {
   "metadata": {},
   "cell_type": "code",
   "execution_count": null,
   "source": [
    "num_cores = os.cpu_count()\n",
    "print(num_cores)\n",
    "\n",
    "with ThreadPoolExecutor(max_workers=int(num_cores * 0.8)) as executor:\n",
    "    futures = {executor.submit(job, name): idx for idx, name in enumerate(names)}"
   ],
   "id": "b654d54ae07a8dec",
   "outputs": []
  },
  {
   "metadata": {},
   "cell_type": "markdown",
   "source": "## Ejecutar un único dataset (parallel)",
   "id": "9c71b5d12e419165"
  },
  {
   "metadata": {
    "ExecuteTime": {
     "end_time": "2024-05-30T10:37:17.568170Z",
     "start_time": "2024-05-30T10:37:17.564877Z"
    }
   },
   "cell_type": "code",
   "source": [
    "ya_ejecutados = []\n",
    "\n",
    "for filename in os.listdir(f\"w/{CRITERION}\"):\n",
    "    ya_ejecutados.append(os.path.splitext(filename)[0])\n",
    "\n",
    "print(\"Faltan por ejecutar: \", set(names) - set(ya_ejecutados))"
   ],
   "id": "8285fa0bf84a44a5",
   "execution_count": 13,
   "outputs": []
  },
  {
   "metadata": {
    "ExecuteTime": {
     "end_time": "2024-05-26T17:36:25.266647Z",
     "start_time": "2024-05-26T17:35:57.972554Z"
    }
   },
   "cell_type": "code",
   "source": [
    "estudio_w(\"iris\", parallel=True, criterion=CRITERION)\n",
    "np.load(\"w/iris.npy\")"
   ],
   "id": "c2457be75c0c74c0",
   "execution_count": 5,
   "outputs": []
  },
  {
   "metadata": {},
   "cell_type": "markdown",
   "source": "## Recopilar todos los experimentos en una matriz",
   "id": "39e975018b8a62"
  },
  {
   "metadata": {
    "ExecuteTime": {
     "end_time": "2024-05-30T15:59:40.572985Z",
     "start_time": "2024-05-30T15:59:40.558983Z"
    }
   },
   "cell_type": "code",
   "source": [
    "matrix_names = []\n",
    "all_matrix = []\n",
    "\n",
    "for filename in os.listdir(f\"w/{CRITERION}\"):\n",
    "    matrix_names.append(os.path.splitext(filename)[0])\n",
    "    all_matrix.append(np.load(f\"w/{CRITERION}/\" + filename))\n",
    "\n",
    "all_matrix = np.array(all_matrix)\n",
    "print(all_matrix.shape)"
   ],
   "id": "d7f6c86d6f2c1a4f",
   "execution_count": 3,
   "outputs": []
  },
  {
   "metadata": {},
   "cell_type": "markdown",
   "source": "## Resultados de la experimentación",
   "id": "db6a5e9497c62962"
  },
  {
   "metadata": {
    "ExecuteTime": {
     "end_time": "2024-05-30T16:06:46.525209Z",
     "start_time": "2024-05-30T16:06:43.009315Z"
    }
   },
   "cell_type": "code",
   "source": [
    "for n, a in zip(matrix_names,all_matrix):\n",
    "    w_heatmap(a, f\"Exactitud para {n}\")"
   ],
   "id": "72a1f250f051726c",
   "execution_count": 10,
   "outputs": []
  },
  {
   "metadata": {
    "ExecuteTime": {
     "end_time": "2024-05-30T16:16:06.593955Z",
     "start_time": "2024-05-30T16:16:06.445512Z"
    }
   },
   "cell_type": "code",
   "source": [
    "all_rankings = []\n",
    "for a in all_matrix:\n",
    "    all_rankings.append(rankdata(-a, axis=0))\n",
    "\n",
    "mean_rankings = np.mean(all_rankings, axis=0)\n",
    "w_heatmap(mean_rankings, \"Estudio de w (rankings)\", more_better=False)"
   ],
   "id": "22c6f3ef9b9f8cc2",
   "execution_count": 14,
   "outputs": []
  },
  {
   "metadata": {
    "ExecuteTime": {
     "end_time": "2024-05-30T16:16:37.089678Z",
     "start_time": "2024-05-30T16:16:37.074675Z"
    }
   },
   "cell_type": "code",
   "source": "np.mean(mean_rankings, axis=1)",
   "id": "b6d25572fa4228af",
   "execution_count": 16,
   "outputs": []
  },
  {
   "metadata": {},
   "cell_type": "markdown",
   "source": [
    "## Nemenyi Test\n",
    "\n",
    "Comprobar la existencia de diferencias significativas"
   ],
   "id": "11dec073ff5aae4c"
  },
  {
   "metadata": {
    "ExecuteTime": {
     "end_time": "2024-05-30T16:40:34.922315Z",
     "start_time": "2024-05-30T16:40:33.960045Z"
    }
   },
   "cell_type": "code",
   "source": [
    "import warnings\n",
    "import pandas as pd\n",
    "import matplotlib.pyplot as plt\n",
    "import scikit_posthocs as sp\n",
    "\n",
    "\n",
    "def nemenyi_test(matrix):\n",
    "    \n",
    "    tests = [\"10%\", \"20%\", \"30%\", \"40%\"]\n",
    "    \n",
    "    with warnings.catch_warnings():\n",
    "        warnings.simplefilter(\"ignore\")\n",
    "        for i in range(matrix.shape[2]):\n",
    "            dict_data = {\n",
    "                '1': all_matrix[:, 0, i],\n",
    "                '.9': all_matrix[:, 1, i],\n",
    "                '.8': all_matrix[:, 2, i],\n",
    "                '.7': all_matrix[:, 3, i],\n",
    "                '.6': all_matrix[:, 4, i],\n",
    "                '.5': all_matrix[:, 5, i],\n",
    "                '.4': all_matrix[:, 6, i],\n",
    "                '.3': all_matrix[:, 7, i],\n",
    "                '.2': all_matrix[:, 8, i],\n",
    "                '.1': all_matrix[:, 9, i],\n",
    "                '.0': all_matrix[:, 10, i],\n",
    "            }\n",
    "            \n",
    "            data_list = [dict_data[key] for key in dict_data]\n",
    "            \n",
    "            results = np.array(data_list).T\n",
    "            \n",
    "            nemenyi_result = sp.posthoc_nemenyi_friedman(results)\n",
    "            \n",
    "            ranks = pd.DataFrame(-results).rank(axis=1, method='average').mean(axis=0)\n",
    "            ranks.index = list(dict_data.keys())\n",
    "            \n",
    "            plt.figure(figsize=(10, 2), dpi=100)\n",
    "            plt.title(\"Nemenyi Test para \" + tests[i] + \" de etiquetados\", pad=10)\n",
    "            sp.critical_difference_diagram(ranks, nemenyi_result, label_fmt_left='{label} [{rank:.3f}]  ',\n",
    "                                           label_fmt_right='  [{rank:.3f}] {label}')\n",
    "            plt.show()\n",
    "        \n",
    "nemenyi_test(all_matrix)"
   ],
   "id": "5920c808bc5ebe98",
   "execution_count": 17,
   "outputs": []
  }
 ],
 "metadata": {
  "kernelspec": {
   "display_name": "Python 3",
   "language": "python",
   "name": "python3"
  },
  "language_info": {
   "codemirror_mode": {
    "name": "ipython",
    "version": 2
   },
   "file_extension": ".py",
   "mimetype": "text/x-python",
   "name": "python",
   "nbconvert_exporter": "python",
   "pygments_lexer": "ipython2",
   "version": "2.7.6"
  }
 },
 "nbformat": 4,
 "nbformat_minor": 5
}
