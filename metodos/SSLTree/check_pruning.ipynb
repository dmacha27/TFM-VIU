{
 "cells": [
  {
   "cell_type": "markdown",
   "source": [
    "# Cost Complexity Pruning\n",
    "\n",
    "Para probar el ejemplo de: http://mlwiki.org/index.php/Cost-Complexity_Pruning"
   ],
   "metadata": {
    "collapsed": false
   },
   "id": "5fb8aa5fe0c78901"
  },
  {
   "cell_type": "code",
   "source": [
    "from utils.Pruning import CostComplexityPruning\n",
    "\n",
    "class Node:\n",
    "    def __init__(self, data, feature, val_split, impurity, probabilities):\n",
    "        self.data = data\n",
    "        self.feature = feature\n",
    "        self.val_split = val_split\n",
    "        self.impurity = impurity\n",
    "        self.probabilities = probabilities\n",
    "        self.left = None\n",
    "        self.right = None\n",
    "        \n",
    "leaf_node_1 = Node(data=[1] * 4, feature=None, val_split=None, impurity=0, probabilities=[0, 1])\n",
    "leaf_node_2 = Node(data=[0] * 2, feature=None, val_split=None, impurity=0, probabilities=[1, 0])\n",
    "leaf_node_3 = Node(data=[0] * 6, feature=None, val_split=None, impurity=0, probabilities=[1, 0])\n",
    "leaf_node_4 = Node(data=[1] * 4, feature=None, val_split=None, impurity=0, probabilities=[0, 1])\n",
    "\n",
    "internal_node = Node(data=[1] * 4 + [0] * 8, feature=0, val_split=0.5, impurity=0.5, probabilities=[8 / 12, 4 / 12])\n",
    "internal_node.left = leaf_node_3\n",
    "internal_node.right = Node(data=[1] * 4 + [0] * 2, feature=0, val_split=0.5, impurity=0.33, probabilities=[2 / 6, 4 / 6])\n",
    "\n",
    "internal_node.right.left = leaf_node_2\n",
    "internal_node.right.right = leaf_node_4\n",
    "\n",
    "root = Node(data=[1] * 8 + [0] * 8, feature=0, val_split=0.5, impurity=0.5, probabilities=[0.5, 0.5])\n",
    "root.left = leaf_node_1\n",
    "root.right = internal_node"
   ],
   "metadata": {
    "collapsed": false,
    "ExecuteTime": {
     "end_time": "2024-05-13T08:50:36.097945Z",
     "start_time": "2024-05-13T08:50:36.016375Z"
    }
   },
   "id": "c28940db0c81ea4a",
   "execution_count": 1,
   "outputs": []
  },
  {
   "cell_type": "code",
   "source": [
    "CostComplexityPruning.prune(root, 3)"
   ],
   "metadata": {
    "collapsed": false,
    "ExecuteTime": {
     "end_time": "2024-05-13T08:50:36.102844Z",
     "start_time": "2024-05-13T08:50:36.097945Z"
    }
   },
   "id": "810b4475cd5280f0",
   "execution_count": 2,
   "outputs": []
  },
  {
   "cell_type": "markdown",
   "source": [
    "# SSLTree con Poda"
   ],
   "metadata": {
    "collapsed": false
   },
   "id": "5762f5396103aa17"
  },
  {
   "cell_type": "code",
   "id": "initial_id",
   "metadata": {
    "collapsed": true,
    "ExecuteTime": {
     "end_time": "2024-05-13T08:50:36.872969Z",
     "start_time": "2024-05-13T08:50:36.102844Z"
    }
   },
   "source": [
    "from SSLTree import SSLTree\n",
    "\n",
    "import matplotlib.pyplot as plt\n",
    "from sklearn.datasets import load_breast_cancer\n",
    "from sklearn.model_selection import train_test_split\n",
    "from sklearn.metrics import accuracy_score"
   ],
   "execution_count": 3,
   "outputs": []
  },
  {
   "cell_type": "code",
   "source": [
    "X, y = load_breast_cancer(return_X_y=True)\n",
    "X_train, X_test, y_train, y_test = train_test_split(X, y, random_state=0)\n",
    "ccp_alphas = [0.003521126760563372, 0.004694835680751174, 0.004694835680751174, 0.004694835680751177,\n",
    "              0.007042253521126761, 0.009389671361502365, 0.016431924882629116, 0.023474178403755867,\n",
    "              0.2957746478873238]"
   ],
   "metadata": {
    "collapsed": false,
    "ExecuteTime": {
     "end_time": "2024-05-13T08:50:36.885642Z",
     "start_time": "2024-05-13T08:50:36.873967Z"
    }
   },
   "id": "4eabb7f0a4e291a8",
   "execution_count": 4,
   "outputs": []
  },
  {
   "cell_type": "code",
   "source": [
    "clfs = []\n",
    "for ccp_alpha in ccp_alphas:\n",
    "    clf = SSLTree(random_state=0, criterion='gini', w=1, ccp_alpha=ccp_alpha)\n",
    "    clf.fit(X_train, y_train)\n",
    "    clfs.append(clf)"
   ],
   "metadata": {
    "collapsed": false,
    "ExecuteTime": {
     "end_time": "2024-05-13T08:54:41.180269Z",
     "start_time": "2024-05-13T08:50:36.885642Z"
    }
   },
   "id": "bd802446dd60b4c1",
   "execution_count": 5,
   "outputs": []
  },
  {
   "cell_type": "code",
   "source": [
    "clfs = clfs[:-1]\n",
    "ccp_alphas = ccp_alphas[:-1]\n",
    "\n",
    "train_scores = [accuracy_score(y_train, clf.predict(X_train)) for clf in clfs]\n",
    "test_scores = [accuracy_score(y_test, clf.predict(X_test)) for clf in clfs]\n",
    "fig, ax = plt.subplots()\n",
    "ax.set_xlabel(\"alpha\")\n",
    "ax.set_ylabel(\"accuracy\")\n",
    "ax.set_title(\"Accuracy vs alpha for training and testing sets\")\n",
    "ax.plot(ccp_alphas, train_scores, marker=\"o\", label=\"train\", drawstyle=\"steps-post\")\n",
    "ax.plot(ccp_alphas, test_scores, marker=\"o\", label=\"test\", drawstyle=\"steps-post\")\n",
    "ax.legend()\n",
    "plt.show()"
   ],
   "metadata": {
    "collapsed": false,
    "ExecuteTime": {
     "end_time": "2024-05-13T08:54:41.343768Z",
     "start_time": "2024-05-13T08:54:41.180775Z"
    }
   },
   "id": "ccc35f316caefd30",
   "execution_count": 6,
   "outputs": []
  }
 ],
 "metadata": {
  "kernelspec": {
   "display_name": "Python 3",
   "language": "python",
   "name": "python3"
  },
  "language_info": {
   "codemirror_mode": {
    "name": "ipython",
    "version": 2
   },
   "file_extension": ".py",
   "mimetype": "text/x-python",
   "name": "python",
   "nbconvert_exporter": "python",
   "pygments_lexer": "ipython2",
   "version": "2.7.6"
  }
 },
 "nbformat": 4,
 "nbformat_minor": 5
}
