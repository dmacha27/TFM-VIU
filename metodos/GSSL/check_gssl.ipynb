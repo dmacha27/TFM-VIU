{
 "cells": [
  {
   "metadata": {
    "ExecuteTime": {
     "end_time": "2024-05-21T11:50:27.179262Z",
     "start_time": "2024-05-21T11:50:26.093417Z"
    }
   },
   "cell_type": "code",
   "source": [
    "import numpy as np\n",
    "from sklearn.metrics import accuracy_score\n",
    "from sklearn.model_selection import train_test_split\n",
    "from sklearn.neighbors import KNeighborsClassifier\n",
    "import matplotlib.pyplot as plt\n",
    "\n",
    "from GSSL import GSSLTransductive, GSSLInductive\n",
    "from GSSL import gbili, rgcli\n",
    "\n",
    "from ucimlrepo import fetch_ucirepo\n",
    "\n",
    "np.random.seed(42)"
   ],
   "id": "8fbbb70111cdccf7",
   "execution_count": 1,
   "outputs": []
  },
  {
   "metadata": {},
   "cell_type": "markdown",
   "source": " # GBILI",
   "id": "a407efd6c41ea5a4"
  },
  {
   "metadata": {
    "ExecuteTime": {
     "end_time": "2024-05-21T10:03:13.553911Z",
     "start_time": "2024-05-21T10:03:13.194338Z"
    }
   },
   "cell_type": "code",
   "source": [
    "X = np.random.rand(50, 2)\n",
    "y = np.random.choice([-1, 0, 1], size=50, p=[0.7, 0.15, 0.15])\n",
    "\n",
    "W = gbili(X, y, 5)\n",
    "W2 = rgcli(X, y, 5, 5, 5)\n",
    "\n",
    "fig, ax = plt.subplots(2, 1)\n",
    "\n",
    "for a, b in W.keys():\n",
    "    ax[0].plot([X[a, 0], X[b, 0]], [X[a, 1], X[b, 1]], 'bo-')\n",
    "\n",
    "ax[0].plot(X[:, 0], X[:, 1], 'ro', markersize=5)\n",
    "ax[0].set_title('GBILI')\n",
    "ax[0].grid(True)\n",
    "\n",
    "for a, b in W2.keys():\n",
    "    ax[1].plot([X[a, 0], X[b, 0]], [X[a, 1], X[b, 1]], 'bo-')\n",
    "\n",
    "ax[1].plot(X[:, 0], X[:, 1], 'ro', markersize=5)\n",
    "ax[1].set_title('RGCLI')\n",
    "ax[1].grid(True)\n",
    "\n",
    "plt.show()"
   ],
   "id": "c1bb0b812c604d86",
   "execution_count": 9,
   "outputs": []
  },
  {
   "metadata": {
    "ExecuteTime": {
     "end_time": "2024-05-21T10:05:23.092362Z",
     "start_time": "2024-05-21T10:05:11.824551Z"
    }
   },
   "cell_type": "code",
   "source": "fetch = fetch_ucirepo(id=186)",
   "id": "d55d8a67169305f7",
   "execution_count": 39,
   "outputs": []
  },
  {
   "metadata": {},
   "cell_type": "markdown",
   "source": "",
   "id": "3c2a105b3d3cd364"
  },
  {
   "metadata": {},
   "cell_type": "markdown",
   "source": [
    "# Experimentación GSSL\n",
    "\n",
    "- Intentar estimar unos parámetros aceptables para RGCLI (en GBILI el propio paper ya los dice).\n",
    "- Extraer resultados individuales de RGCLI vs GBILI.\n",
    "- Extraer resultados comparativa RGCLI, KNN, ST.\n",
    "- Extraer resultados comparativa GBILI, KNN, ST.\n",
    "- Observar la inlfuencia de quitar los no etiquetados de Train."
   ],
   "id": "c0c51e4253e5f907"
  },
  {
   "metadata": {},
   "cell_type": "markdown",
   "source": "# Transductivo",
   "id": "4478a6264c84822d"
  },
  {
   "metadata": {
    "ExecuteTime": {
     "end_time": "2024-05-21T11:50:30.069149Z",
     "start_time": "2024-05-21T11:50:30.051484Z"
    }
   },
   "cell_type": "code",
   "source": [
    "from sklearn.semi_supervised import SelfTrainingClassifier\n",
    "from sklearn.preprocessing import LabelEncoder\n",
    "import pandas as pd\n",
    "\n",
    "\n",
    "def encontrar_fila_con_palabra(ruta_archivo, palabra):\n",
    "    with open(ruta_archivo, 'r') as archivo:\n",
    "        for num_linea, linea in enumerate(archivo, 1):\n",
    "            if palabra in linea:\n",
    "                return num_linea\n",
    "    return -1\n",
    "\n",
    "\n",
    "def cross_val(name, p_unlabeled):\n",
    "    accuracy_gssl = []\n",
    "    accuracy_knn = []\n",
    "    accuracy_st = []\n",
    "\n",
    "    print(\"PERCENTAGE:\", p_unlabeled, \"- DATASET:\", name)\n",
    "    for k in range(1, 11):\n",
    "        train_data = pd.read_csv(\n",
    "            f'../datasets/{p_unlabeled}/{name}-ssl{p_unlabeled}-10-fold/{name}-ssl{p_unlabeled}/{name}-ssl{p_unlabeled}-10-{k}tra.dat',\n",
    "            header=None,\n",
    "            skiprows=encontrar_fila_con_palabra(\n",
    "                f'../datasets/{p_unlabeled}/{name}-ssl{p_unlabeled}-10-fold/{name}-ssl{p_unlabeled}/{name}-ssl{p_unlabeled}-10-{k}tra.dat',\n",
    "                '@data'))\n",
    "\n",
    "        test_data = pd.read_csv(\n",
    "            f'../datasets/{p_unlabeled}/{name}-ssl{p_unlabeled}-10-fold/{name}-ssl{p_unlabeled}/{name}-ssl{p_unlabeled}-10-{k}tst.dat',\n",
    "            header=None,\n",
    "            skiprows=encontrar_fila_con_palabra(\n",
    "                f'../datasets/{p_unlabeled}/{name}-ssl{p_unlabeled}-10-fold/{name}-ssl{p_unlabeled}/{name}-ssl{p_unlabeled}-10-{k}tst.dat',\n",
    "                '@data'))\n",
    "\n",
    "        columnas_strings = train_data.iloc[:, :-1].select_dtypes(exclude=['number']).columns.tolist()\n",
    "\n",
    "        for col in columnas_strings:\n",
    "            encoder = LabelEncoder()\n",
    "            train_data.iloc[:, col] = encoder.fit_transform(train_data.iloc[:, col])\n",
    "            train_data[col] = train_data[col].apply(pd.to_numeric)\n",
    "            test_data.iloc[:, col] = encoder.transform(test_data.iloc[:, col])\n",
    "            test_data[col] = test_data[col].apply(pd.to_numeric)\n",
    "\n",
    "        if pd.api.types.is_numeric_dtype(test_data.iloc[:, -1]):\n",
    "            train_data.loc[train_data.iloc[:, -1] == ' unlabeled', len(train_data.columns) - 1] = -1\n",
    "            train_data.iloc[:, -1] = pd.to_numeric(train_data.iloc[:, -1])\n",
    "        else:\n",
    "            label_encoder = LabelEncoder()\n",
    "            # Codificar las etiquetas de clase\n",
    "            train_data.iloc[:, -1] = label_encoder.fit_transform(train_data.iloc[:, -1])\n",
    "            train_data.loc[train_data.iloc[:, -1] == label_encoder.transform([' unlabeled'])[0], len(\n",
    "                train_data.columns) - 1] = -1\n",
    "\n",
    "            test_data.iloc[:, -1] = label_encoder.transform(test_data.iloc[:, -1])\n",
    "\n",
    "        train_data[train_data.columns[-1]] = train_data[train_data.columns[-1]].astype(int)\n",
    "        test_data[test_data.columns[-1]] = test_data[test_data.columns[-1]].astype(int)\n",
    "\n",
    "        train_data_label = train_data[train_data.iloc[:, -1] != -1]\n",
    "\n",
    "        gssl = GSSLTransductive()\n",
    "        # print(my_tree.export_tree())\n",
    "        # print(accuracy_score(test_data.iloc[:, -1].values, my_tree.predict(test_data.iloc[:, :-1].values)))\n",
    "\n",
    "        knn = KNeighborsClassifier()\n",
    "        knn.fit(train_data_label.iloc[:, :-1].values, train_data_label.iloc[:, -1].values)\n",
    "        # print(export_text(dt))\n",
    "        # print(accuracy_score(test_data.iloc[:, -1].values, dt.predict(test_data.iloc[:, :-1].values)))\n",
    "        self_training_model = SelfTrainingClassifier(KNeighborsClassifier())\n",
    "        self_training_model.fit(train_data.iloc[:, :-1].values, train_data.iloc[:, -1].values)\n",
    "\n",
    "        accuracy_gssl.append(\n",
    "            accuracy_score(test_data.iloc[:, -1].values, gssl.fit_predict(\n",
    "                np.concatenate((train_data.iloc[:, :-1].values, test_data.iloc[:, :-1].values), axis=0)\n",
    "                , np.concatenate((train_data.iloc[:, -1].values, [-1] * len(test_data.iloc[:, -1].values)))\n",
    "            )[len(train_data):]\n",
    "                           ) # Probar a quitar los no etiquetados de train y concatenar despues las de test\n",
    "        )\n",
    "        accuracy_knn.append(accuracy_score(test_data.iloc[:, -1].values, knn.predict(test_data.iloc[:, :-1].values)))\n",
    "        accuracy_st.append(accuracy_score(test_data.iloc[:, -1].values,\n",
    "                                          self_training_model.predict(test_data.iloc[:, :-1].values)))\n",
    "\n",
    "        print(\"\\tFOLD\", k, \"- Done\")\n",
    "\n",
    "    return np.median(accuracy_gssl), np.median(accuracy_knn), np.median(accuracy_st)"
   ],
   "id": "341d8b339df0ee75",
   "execution_count": 2,
   "outputs": []
  },
  {
   "metadata": {
    "ExecuteTime": {
     "end_time": "2024-05-21T11:50:33.726878Z",
     "start_time": "2024-05-21T11:50:33.723783Z"
    }
   },
   "cell_type": "code",
   "source": [
    "names = [\n",
    "    # \"abalone\",\n",
    "    \"appendicitis\",\n",
    "    \"australian\",\n",
    "    # \"automobile\",\n",
    "    # \"banana\", best_left (puede ser porque tiene -1 en las etiquetas)\n",
    "    # \"breast\",\n",
    "    \"bupa\",\n",
    "    # \"chess\",\n",
    "    \"cleveland\",\n",
    "    #\"coil2000\", tarda\n",
    "    \"contraceptive\",\n",
    "    # crx\",\n",
    "    \"dermatology\",\n",
    "    \"ecoli\",\n",
    "    \"flare\",\n",
    "    \"german\",\n",
    "    \"glass\",\n",
    "    \"haberman\",\n",
    "    \"heart\",\n",
    "    \"hepatitis\",\n",
    "    # \"housevotes\",\n",
    "    \"iris\",\n",
    "    \"led7digit\",\n",
    "    # \"lymphography\",\n",
    "    # \"magic\", tarda mucho\n",
    "    \"mammographic\",\n",
    "    #\"marketing\", tarda\n",
    "    \"monk-2\",\n",
    "    \"movement_libras\",\n",
    "    # \"mushroom\",\n",
    "    #\"nursery\", tarda\n",
    "    #\"page-blocks\", tarda\n",
    "    #\"penbased\", tarda\n",
    "    #\"phoneme\", tarda\n",
    "    # \"pima\",\n",
    "    # \"ring\", no hay problema, pero tarda como dos milenios (aprox)\n",
    "    \"saheart\",\n",
    "    #\"satimage\", tarda\n",
    "    \"segment\",\n",
    "    \"sonar\",\n",
    "    #\"spambase\", tarda\n",
    "    \"spectfheart\",\n",
    "    #\"splice\", problemas\n",
    "    \"tae\",\n",
    "    # \"texture\", no hay problema, pero tarda como tres milenios (aprox)\n",
    "    # \"thyroid\", tarda\n",
    "    \"tic-tac-toe\",\n",
    "    # \"titanic\", tiene -1 en las etiquetas\n",
    "    # \"twonorm\", tarda\n",
    "    \"vehicle\",\n",
    "    \"vowel\",\n",
    "    \"wine\",\n",
    "    \"wisconsin\",\n",
    "    \"yeast\",\n",
    "    \"zoo\"\n",
    "]"
   ],
   "id": "674003976dab5b82",
   "execution_count": 3,
   "outputs": []
  },
  {
   "metadata": {
    "ExecuteTime": {
     "end_time": "2024-05-21T11:56:44.937463Z",
     "start_time": "2024-05-21T11:50:35.509042Z"
    }
   },
   "cell_type": "code",
   "source": [
    "from scipy.stats import rankdata\n",
    "\n",
    "all_medians = {}\n",
    "\n",
    "all_mean_rankings = np.empty((3, 4))\n",
    "\n",
    "for i, p in enumerate([\"10\", \"20\", \"30\", \"40\"]):\n",
    "    medians_gssl = []\n",
    "    medians_knn = []\n",
    "    medians_st = []\n",
    "    for name in names:\n",
    "        m_ssl, m_dt, m_st = cross_val(name, p)\n",
    "        # break\n",
    "        medians_gssl.append(m_ssl)\n",
    "        medians_knn.append(m_dt)\n",
    "        medians_st.append(m_st)\n",
    "    # break\n",
    "    print(medians_gssl)\n",
    "    print(medians_knn)\n",
    "    print(medians_st)\n",
    "    \n",
    "    all_medians[p] = np.stack((medians_gssl, medians_knn, medians_st))\n",
    "\n",
    "    rankings = rankdata(-all_medians[p], method=\"average\", axis=0)\n",
    "    print(rankings)\n",
    "\n",
    "    all_mean_rankings[:, i] = np.mean(rankings, axis=1)\n",
    "\n",
    "final_rankings = rankdata(all_mean_rankings, method=\"average\", axis=0)\n",
    "print(all_mean_rankings)"
   ],
   "id": "6e8c60cbc87fe92c",
   "execution_count": 4,
   "outputs": []
  },
  {
   "metadata": {
    "ExecuteTime": {
     "end_time": "2024-05-21T11:56:48.416566Z",
     "start_time": "2024-05-21T11:56:48.241955Z"
    }
   },
   "cell_type": "code",
   "source": [
    "plt.figure(figsize=(10, 6))\n",
    "\n",
    "for i, percentage in enumerate([\"10%\", \"20%\", \"30%\", \"40%\"]):\n",
    "    top = all_mean_rankings[:, i].copy()\n",
    "    uniques, _ = np.unique(top, return_counts=True)\n",
    "\n",
    "classifiers = [\"GSSL\", \"KNN\", \"SelfTraining(KNN)\"]\n",
    "for j, classifier in enumerate(classifiers):\n",
    "    plt.scatter([\"10%\", \"20%\", \"30%\", \"40%\"], all_mean_rankings[j], label=classifier)\n",
    "\n",
    "plt.ylim(1, 3)\n",
    "plt.xlabel(\"Porentaje de etiquetados\")\n",
    "plt.ylabel(\"Ranking\")\n",
    "plt.title(\"Comparativa GSSL Transductivo, KNN y SelfTraining(KNN)\")\n",
    "\n",
    "plt.legend()\n",
    "plt.show()"
   ],
   "id": "610e3d054868cd43",
   "execution_count": 5,
   "outputs": []
  },
  {
   "metadata": {},
   "cell_type": "markdown",
   "source": "# Inductivo",
   "id": "1ec717b7a149e15f"
  },
  {
   "metadata": {
    "ExecuteTime": {
     "end_time": "2024-05-21T10:04:42.465506Z",
     "start_time": "2024-05-21T10:04:42.392669Z"
    }
   },
   "cell_type": "code",
   "source": [
    "dataset = fetch.data.features.values\n",
    "real_targets = np.ravel(fetch.data.targets)\n",
    "labels = np.copy(real_targets)\n",
    "\n",
    "X_train, X_test, y_train, y_test = train_test_split(dataset, labels, test_size=0.3, random_state=42)\n",
    "\n",
    "num_samples_to_unlabel = int(0.7 * len(y_train))\n",
    "unlabeled_indices = np.random.choice(len(y_train), num_samples_to_unlabel, replace=False)\n",
    "y_train[unlabeled_indices] = -1\n",
    "\n",
    "no_labeled = np.where(y_train == -1)[0]\n",
    "labeled = np.where(y_train != -1)[0]\n",
    "\n",
    "X_train_labeled = X_train[labeled, :]\n",
    "y_train_labeled = y_train[labeled]\n",
    "\n",
    "X_train_no_labeled = X_train[no_labeled, :]\n",
    "y_train_no_labeled = y_train[no_labeled]\n",
    "\n",
    "X = np.concatenate((X_train_labeled, X_train_no_labeled))\n",
    "y = np.hstack((y_train_labeled, y_train_no_labeled))\n",
    "\n",
    "trans = GSSLInductive()\n",
    "\n",
    "trans.fit(X, y)\n",
    "\n",
    "pred = trans.predict(X_test)\n",
    "\n",
    "print(\"Accuracy GSSL:\", accuracy_score(y_test, pred))\n",
    "knn = KNeighborsClassifier(n_neighbors=5)\n",
    "knn.fit(X_train_labeled, y_train_labeled)\n",
    "print(\"Accuracy KNN:\", accuracy_score(y_test, knn.predict(X_test)))"
   ],
   "id": "1da8c25cb2003dcc",
   "execution_count": 37,
   "outputs": []
  }
 ],
 "metadata": {
  "kernelspec": {
   "display_name": "Python 3",
   "language": "python",
   "name": "python3"
  },
  "language_info": {
   "codemirror_mode": {
    "name": "ipython",
    "version": 2
   },
   "file_extension": ".py",
   "mimetype": "text/x-python",
   "name": "python",
   "nbconvert_exporter": "python",
   "pygments_lexer": "ipython2",
   "version": "2.7.6"
  }
 },
 "nbformat": 4,
 "nbformat_minor": 5
}
