{
 "cells": [
  {
   "metadata": {
    "ExecuteTime": {
     "end_time": "2024-05-13T08:59:38.962299Z",
     "start_time": "2024-05-13T08:59:38.958568Z"
    }
   },
   "cell_type": "code",
   "source": [
    "import numpy as np\n",
    "from sklearn.metrics import accuracy_score\n",
    "from sklearn.model_selection import train_test_split\n",
    "from sklearn.neighbors import KNeighborsClassifier\n",
    "\n",
    "from GSSL import GSSLTransductive, GSSLInductive\n",
    "\n",
    "from ucimlrepo import fetch_ucirepo"
   ],
   "id": "8fbbb70111cdccf7",
   "outputs": [],
   "execution_count": 5
  },
  {
   "metadata": {
    "ExecuteTime": {
     "end_time": "2024-05-13T08:59:40.957312Z",
     "start_time": "2024-05-13T08:59:38.962299Z"
    }
   },
   "cell_type": "code",
   "source": "fetch = fetch_ucirepo(id=186)",
   "id": "d55d8a67169305f7",
   "outputs": [],
   "execution_count": 6
  },
  {
   "metadata": {},
   "cell_type": "markdown",
   "source": "# Transductivo",
   "id": "4478a6264c84822d"
  },
  {
   "metadata": {
    "ExecuteTime": {
     "end_time": "2024-05-13T08:59:49.503837Z",
     "start_time": "2024-05-13T08:59:40.957312Z"
    }
   },
   "cell_type": "code",
   "source": [
    "dataset = fetch.data.features.values\n",
    "real_targets = np.ravel(fetch.data.targets)\n",
    "labels = np.copy(real_targets)\n",
    "\n",
    "num_samples_to_unlabel = int(0.3 * len(labels))\n",
    "unlabeled_indices = np.random.choice(len(labels), num_samples_to_unlabel, replace=False)\n",
    "labels[unlabeled_indices] = -1\n",
    "\n",
    "no_labeled = np.where(labels == -1)[0]\n",
    "labeled = np.where(labels != -1)[0]\n",
    "\n",
    "dataset_labeled = dataset[labeled, :]\n",
    "labels_labeled = labels[labeled]\n",
    "\n",
    "dataset_no_labeled = dataset[no_labeled, :]\n",
    "labels_no_labeled = labels[no_labeled]\n",
    "\n",
    "X = np.concatenate((dataset_labeled, dataset_no_labeled))\n",
    "y = np.hstack((labels_labeled, labels_no_labeled))\n",
    "\n",
    "trans = GSSLTransductive()\n",
    "\n",
    "pred = trans.fit_predict(X, y)\n",
    "\n",
    "print(\"Accuracy GSSL:\", accuracy_score(real_targets[no_labeled], pred[len(labeled):]))\n",
    "\n",
    "knn = KNeighborsClassifier(n_neighbors=5)\n",
    "knn.fit(dataset_labeled, labels_labeled)\n",
    "print(\"Accuracy KNN:\", accuracy_score(real_targets[no_labeled], knn.predict(dataset_no_labeled)))"
   ],
   "id": "9fe22ff28f810909",
   "outputs": [
    {
     "name": "stdout",
     "output_type": "stream",
     "text": [
      "Accuracy GSSL: 0.4976911236531555\n",
      "Accuracy KNN: 0.4771677783478707\n"
     ]
    }
   ],
   "execution_count": 7
  },
  {
   "metadata": {},
   "cell_type": "markdown",
   "source": "# Inductivo",
   "id": "1ec717b7a149e15f"
  },
  {
   "metadata": {
    "ExecuteTime": {
     "end_time": "2024-05-13T09:00:01.693559Z",
     "start_time": "2024-05-13T08:59:49.503837Z"
    }
   },
   "cell_type": "code",
   "source": [
    "dataset = fetch.data.features.values\n",
    "real_targets = np.ravel(fetch.data.targets)\n",
    "labels = np.copy(real_targets)\n",
    "\n",
    "X_train, X_test, y_train, y_test = train_test_split(dataset, labels, test_size=0.3, random_state=42)\n",
    "\n",
    "num_samples_to_unlabel = int(0.7 * len(y_train))\n",
    "unlabeled_indices = np.random.choice(len(y_train), num_samples_to_unlabel, replace=False)\n",
    "y_train[unlabeled_indices] = -1\n",
    "\n",
    "no_labeled = np.where(y_train == -1)[0]\n",
    "labeled = np.where(y_train != -1)[0]\n",
    "\n",
    "X_train_labeled = X_train[labeled, :]\n",
    "y_train_labeled = y_train[labeled]\n",
    "\n",
    "X_train_no_labeled = X_train[no_labeled, :]\n",
    "y_train_no_labeled = y_train[no_labeled]\n",
    "\n",
    "X = np.concatenate((X_train_labeled, X_train_no_labeled))\n",
    "y = np.hstack((y_train_labeled, y_train_no_labeled))\n",
    "\n",
    "trans = GSSLInductive()\n",
    "\n",
    "trans.fit(X, y)\n",
    "\n",
    "pred = trans.predict(X_test)\n",
    "\n",
    "print(\"Accuracy GSSL:\", accuracy_score(y_test, pred))\n",
    "knn = KNeighborsClassifier(n_neighbors=5)\n",
    "knn.fit(X_train_labeled, y_train_labeled)\n",
    "print(\"Accuracy KNN:\", accuracy_score(y_test, knn.predict(X_test)))"
   ],
   "id": "1da8c25cb2003dcc",
   "outputs": [
    {
     "name": "stdout",
     "output_type": "stream",
     "text": [
      "Accuracy GSSL: 0.4533333333333333\n",
      "Accuracy KNN: 0.4451282051282051\n"
     ]
    }
   ],
   "execution_count": 8
  }
 ],
 "metadata": {
  "kernelspec": {
   "display_name": "Python 3",
   "language": "python",
   "name": "python3"
  },
  "language_info": {
   "codemirror_mode": {
    "name": "ipython",
    "version": 2
   },
   "file_extension": ".py",
   "mimetype": "text/x-python",
   "name": "python",
   "nbconvert_exporter": "python",
   "pygments_lexer": "ipython2",
   "version": "2.7.6"
  }
 },
 "nbformat": 4,
 "nbformat_minor": 5
}
