{
 "cells": [
  {
   "metadata": {},
   "cell_type": "markdown",
   "source": [
    "# Estudio hiperparámetros LGC\n",
    "\n",
    "\"Learning with local and global consistency\" by Dengyong Zhou, Olivier Bousquet, Thomas Lal, Jason Weston, and Bernhard Schölkopf. Published in Advances in Neural Information Processing Systems, Volume 16, 2003."
   ],
   "id": "3023f62f798cd647"
  },
  {
   "metadata": {
    "ExecuteTime": {
     "end_time": "2024-07-17T23:27:39.684513Z",
     "start_time": "2024-07-17T23:27:39.675510Z"
    }
   },
   "cell_type": "code",
   "source": [
    "graph_method = 'gbili'\n",
    "method = 'inductive'"
   ],
   "id": "6a3e2bdf4b2b0ea1",
   "outputs": [],
   "execution_count": 1
  },
  {
   "metadata": {
    "ExecuteTime": {
     "end_time": "2024-07-17T23:27:41.231231Z",
     "start_time": "2024-07-17T23:27:39.700515Z"
    }
   },
   "cell_type": "code",
   "source": [
    "from metodos.GSSL.utils.Experiments import estudio_lgc_alpha, alpha_heatmap, names\n",
    "import numpy as np\n",
    "import os\n",
    "from scipy.stats import rankdata"
   ],
   "id": "9304e210b7ae7d02",
   "outputs": [],
   "execution_count": 2
  },
  {
   "metadata": {
    "ExecuteTime": {
     "end_time": "2024-07-18T00:16:06.104408Z",
     "start_time": "2024-07-17T23:27:41.232233Z"
    }
   },
   "cell_type": "code",
   "source": [
    "for name in names:\n",
    "    estudio_lgc_alpha(name, graph_method, method, parallel=True, path=\"../experimentos/lgc_alpha/\"+ method +\"/\"+graph_method+\"/{}.npy\")"
   ],
   "id": "4aa894f95adfbd5e",
   "outputs": [
    {
     "name": "stdout",
     "output_type": "stream",
     "text": [
      "Dataset: appendicitis P: 10 - DONE\n",
      "Dataset: appendicitis P: 20 - DONE\n",
      "Dataset: appendicitis P: 30 - DONE\n",
      "Dataset: appendicitis P: 40 - DONE\n",
      "appendicitis saved\n",
      "Dataset: australian P: 10 - DONE\n",
      "Dataset: australian P: 20 - DONE\n",
      "Dataset: australian P: 30 - DONE\n",
      "Dataset: australian P: 40 - DONE\n",
      "australian saved\n",
      "Dataset: bupa P: 10 - DONE\n",
      "Dataset: bupa P: 20 - DONE\n",
      "Dataset: bupa P: 30 - DONE\n",
      "Dataset: bupa P: 40 - DONE\n",
      "bupa saved\n",
      "Dataset: cleveland P: 10 - DONE\n",
      "Dataset: cleveland P: 20 - DONE\n",
      "Dataset: cleveland P: 30 - DONE\n",
      "Dataset: cleveland P: 40 - DONE\n",
      "cleveland saved\n",
      "Dataset: contraceptive P: 10 - DONE\n",
      "Dataset: contraceptive P: 20 - DONE\n",
      "Dataset: contraceptive P: 30 - DONE\n",
      "Dataset: contraceptive P: 40 - DONE\n",
      "contraceptive saved\n",
      "Dataset: dermatology P: 10 - DONE\n",
      "Dataset: dermatology P: 20 - DONE\n",
      "Dataset: dermatology P: 30 - DONE\n",
      "Dataset: dermatology P: 40 - DONE\n",
      "dermatology saved\n",
      "Dataset: ecoli P: 10 - DONE\n",
      "Dataset: ecoli P: 20 - DONE\n",
      "Dataset: ecoli P: 30 - DONE\n",
      "Dataset: ecoli P: 40 - DONE\n",
      "ecoli saved\n",
      "Dataset: flare P: 10 - DONE\n",
      "Dataset: flare P: 20 - DONE\n",
      "Dataset: flare P: 30 - DONE\n",
      "Dataset: flare P: 40 - DONE\n",
      "flare saved\n",
      "Dataset: german P: 10 - DONE\n",
      "Dataset: german P: 20 - DONE\n",
      "Dataset: german P: 30 - DONE\n",
      "Dataset: german P: 40 - DONE\n",
      "german saved\n",
      "Dataset: glass P: 10 - DONE\n",
      "Dataset: glass P: 20 - DONE\n",
      "Dataset: glass P: 30 - DONE\n",
      "Dataset: glass P: 40 - DONE\n",
      "glass saved\n",
      "Dataset: haberman P: 10 - DONE\n",
      "Dataset: haberman P: 20 - DONE\n",
      "Dataset: haberman P: 30 - DONE\n",
      "Dataset: haberman P: 40 - DONE\n",
      "haberman saved\n",
      "Dataset: heart P: 10 - DONE\n",
      "Dataset: heart P: 20 - DONE\n",
      "Dataset: heart P: 30 - DONE\n",
      "Dataset: heart P: 40 - DONE\n",
      "heart saved\n",
      "Dataset: hepatitis P: 10 - DONE\n",
      "Dataset: hepatitis P: 20 - DONE\n",
      "Dataset: hepatitis P: 30 - DONE\n",
      "Dataset: hepatitis P: 40 - DONE\n",
      "hepatitis saved\n",
      "Dataset: iris P: 10 - DONE\n",
      "Dataset: iris P: 20 - DONE\n",
      "Dataset: iris P: 30 - DONE\n",
      "Dataset: iris P: 40 - DONE\n",
      "iris saved\n",
      "Dataset: led7digit P: 10 - DONE\n",
      "Dataset: led7digit P: 20 - DONE\n",
      "Dataset: led7digit P: 30 - DONE\n",
      "Dataset: led7digit P: 40 - DONE\n",
      "led7digit saved\n",
      "Dataset: monk-2 P: 10 - DONE\n",
      "Dataset: monk-2 P: 20 - DONE\n",
      "Dataset: monk-2 P: 30 - DONE\n",
      "Dataset: monk-2 P: 40 - DONE\n",
      "monk-2 saved\n",
      "Dataset: saheart P: 10 - DONE\n",
      "Dataset: saheart P: 20 - DONE\n",
      "Dataset: saheart P: 30 - DONE\n",
      "Dataset: saheart P: 40 - DONE\n",
      "saheart saved\n",
      "Dataset: tae P: 10 - DONE\n",
      "Dataset: tae P: 20 - DONE\n",
      "Dataset: tae P: 30 - DONE\n",
      "Dataset: tae P: 40 - DONE\n",
      "tae saved\n",
      "Dataset: vehicle P: 10 - DONE\n",
      "Dataset: vehicle P: 20 - DONE\n",
      "Dataset: vehicle P: 30 - DONE\n",
      "Dataset: vehicle P: 40 - DONE\n",
      "vehicle saved\n",
      "Dataset: wine P: 10 - DONE\n",
      "Dataset: wine P: 20 - DONE\n",
      "Dataset: wine P: 30 - DONE\n",
      "Dataset: wine P: 40 - DONE\n",
      "wine saved\n",
      "Dataset: wisconsin P: 10 - DONE\n",
      "Dataset: wisconsin P: 20 - DONE\n",
      "Dataset: wisconsin P: 30 - DONE\n",
      "Dataset: wisconsin P: 40 - DONE\n",
      "wisconsin saved\n",
      "Dataset: yeast P: 10 - DONE\n",
      "Dataset: yeast P: 20 - DONE\n",
      "Dataset: yeast P: 30 - DONE\n",
      "Dataset: yeast P: 40 - DONE\n",
      "yeast saved\n",
      "Dataset: zoo P: 10 - DONE\n",
      "Dataset: zoo P: 20 - DONE\n",
      "Dataset: zoo P: 30 - DONE\n",
      "Dataset: zoo P: 40 - DONE\n",
      "zoo saved\n"
     ]
    }
   ],
   "execution_count": 3
  },
  {
   "metadata": {
    "ExecuteTime": {
     "end_time": "2024-07-18T00:59:02.748847Z",
     "start_time": "2024-07-18T00:16:06.105409Z"
    }
   },
   "cell_type": "code",
   "source": [
    "graph_method = 'gbili'\n",
    "method = 'transductive'\n",
    "\n",
    "for name in names:\n",
    "    estudio_lgc_alpha(name, graph_method, method, parallel=True, path=\"../experimentos/lgc_alpha/\"+ method +\"/\"+graph_method+\"/{}.npy\")"
   ],
   "id": "fab8aec9b309b0df",
   "outputs": [
    {
     "name": "stdout",
     "output_type": "stream",
     "text": [
      "Dataset: appendicitis P: 10 - DONE\n",
      "Dataset: appendicitis P: 20 - DONE\n",
      "Dataset: appendicitis P: 30 - DONE\n",
      "Dataset: appendicitis P: 40 - DONE\n",
      "appendicitis saved\n",
      "Dataset: australian P: 10 - DONE\n",
      "Dataset: australian P: 20 - DONE\n",
      "Dataset: australian P: 30 - DONE\n",
      "Dataset: australian P: 40 - DONE\n",
      "australian saved\n",
      "Dataset: bupa P: 10 - DONE\n",
      "Dataset: bupa P: 20 - DONE\n",
      "Dataset: bupa P: 30 - DONE\n",
      "Dataset: bupa P: 40 - DONE\n",
      "bupa saved\n",
      "Dataset: cleveland P: 10 - DONE\n",
      "Dataset: cleveland P: 20 - DONE\n",
      "Dataset: cleveland P: 30 - DONE\n",
      "Dataset: cleveland P: 40 - DONE\n",
      "cleveland saved\n",
      "Dataset: contraceptive P: 10 - DONE\n",
      "Dataset: contraceptive P: 20 - DONE\n",
      "Dataset: contraceptive P: 30 - DONE\n",
      "Dataset: contraceptive P: 40 - DONE\n",
      "contraceptive saved\n",
      "Dataset: dermatology P: 10 - DONE\n",
      "Dataset: dermatology P: 20 - DONE\n",
      "Dataset: dermatology P: 30 - DONE\n",
      "Dataset: dermatology P: 40 - DONE\n",
      "dermatology saved\n",
      "Dataset: ecoli P: 10 - DONE\n",
      "Dataset: ecoli P: 20 - DONE\n",
      "Dataset: ecoli P: 30 - DONE\n",
      "Dataset: ecoli P: 40 - DONE\n",
      "ecoli saved\n",
      "Dataset: flare P: 10 - DONE\n",
      "Dataset: flare P: 20 - DONE\n",
      "Dataset: flare P: 30 - DONE\n",
      "Dataset: flare P: 40 - DONE\n",
      "flare saved\n",
      "Dataset: german P: 10 - DONE\n",
      "Dataset: german P: 20 - DONE\n",
      "Dataset: german P: 30 - DONE\n",
      "Dataset: german P: 40 - DONE\n",
      "german saved\n",
      "Dataset: glass P: 10 - DONE\n",
      "Dataset: glass P: 20 - DONE\n",
      "Dataset: glass P: 30 - DONE\n",
      "Dataset: glass P: 40 - DONE\n",
      "glass saved\n",
      "Dataset: haberman P: 10 - DONE\n",
      "Dataset: haberman P: 20 - DONE\n",
      "Dataset: haberman P: 30 - DONE\n",
      "Dataset: haberman P: 40 - DONE\n",
      "haberman saved\n",
      "Dataset: heart P: 10 - DONE\n",
      "Dataset: heart P: 20 - DONE\n",
      "Dataset: heart P: 30 - DONE\n",
      "Dataset: heart P: 40 - DONE\n",
      "heart saved\n",
      "Dataset: hepatitis P: 10 - DONE\n",
      "Dataset: hepatitis P: 20 - DONE\n",
      "Dataset: hepatitis P: 30 - DONE\n",
      "Dataset: hepatitis P: 40 - DONE\n",
      "hepatitis saved\n",
      "Dataset: iris P: 10 - DONE\n",
      "Dataset: iris P: 20 - DONE\n",
      "Dataset: iris P: 30 - DONE\n",
      "Dataset: iris P: 40 - DONE\n",
      "iris saved\n",
      "Dataset: led7digit P: 10 - DONE\n",
      "Dataset: led7digit P: 20 - DONE\n",
      "Dataset: led7digit P: 30 - DONE\n",
      "Dataset: led7digit P: 40 - DONE\n",
      "led7digit saved\n",
      "Dataset: monk-2 P: 10 - DONE\n",
      "Dataset: monk-2 P: 20 - DONE\n",
      "Dataset: monk-2 P: 30 - DONE\n",
      "Dataset: monk-2 P: 40 - DONE\n",
      "monk-2 saved\n",
      "Dataset: saheart P: 10 - DONE\n",
      "Dataset: saheart P: 20 - DONE\n",
      "Dataset: saheart P: 30 - DONE\n",
      "Dataset: saheart P: 40 - DONE\n",
      "saheart saved\n",
      "Dataset: tae P: 10 - DONE\n",
      "Dataset: tae P: 20 - DONE\n",
      "Dataset: tae P: 30 - DONE\n",
      "Dataset: tae P: 40 - DONE\n",
      "tae saved\n",
      "Dataset: vehicle P: 10 - DONE\n",
      "Dataset: vehicle P: 20 - DONE\n",
      "Dataset: vehicle P: 30 - DONE\n",
      "Dataset: vehicle P: 40 - DONE\n",
      "vehicle saved\n",
      "Dataset: wine P: 10 - DONE\n",
      "Dataset: wine P: 20 - DONE\n",
      "Dataset: wine P: 30 - DONE\n",
      "Dataset: wine P: 40 - DONE\n",
      "wine saved\n",
      "Dataset: wisconsin P: 10 - DONE\n",
      "Dataset: wisconsin P: 20 - DONE\n",
      "Dataset: wisconsin P: 30 - DONE\n",
      "Dataset: wisconsin P: 40 - DONE\n",
      "wisconsin saved\n",
      "Dataset: yeast P: 10 - DONE\n",
      "Dataset: yeast P: 20 - DONE\n",
      "Dataset: yeast P: 30 - DONE\n",
      "Dataset: yeast P: 40 - DONE\n",
      "yeast saved\n",
      "Dataset: zoo P: 10 - DONE\n",
      "Dataset: zoo P: 20 - DONE\n",
      "Dataset: zoo P: 30 - DONE\n",
      "Dataset: zoo P: 40 - DONE\n",
      "zoo saved\n"
     ]
    }
   ],
   "execution_count": 4
  },
  {
   "metadata": {
    "ExecuteTime": {
     "end_time": "2024-07-16T07:14:39.423171Z",
     "start_time": "2024-07-16T07:14:39.320992Z"
    }
   },
   "cell_type": "code",
   "source": [
    "matrix_names = []\n",
    "all_matrix = []\n",
    "\n",
    "for filename in os.listdir(f\"lgc_alpha/{method}/{graph_method}/\"):\n",
    "    if not os.path.isdir(f\"lgc_alpha/{method}/{graph_method}/\" + filename):\n",
    "        matrix_names.append(os.path.splitext(filename)[0])\n",
    "        all_matrix.append(np.load(f\"lgc_alpha/{method}/{graph_method}/\" + filename))\n",
    "\n",
    "all_matrix = np.array(all_matrix)\n",
    "print(all_matrix.shape)"
   ],
   "id": "ce8205c5eb02e929",
   "execution_count": 21,
   "outputs": []
  },
  {
   "metadata": {
    "ExecuteTime": {
     "end_time": "2024-07-16T07:14:40.542589Z",
     "start_time": "2024-07-16T07:14:40.369216Z"
    }
   },
   "cell_type": "code",
   "source": [
    "all_rankings = []\n",
    "for a in all_matrix:\n",
    "    all_rankings.append(rankdata(-a, axis=0))\n",
    "\n",
    "mean_rankings = np.mean(all_rankings, axis=0)\n",
    "alpha_heatmap(mean_rankings, f\"Estudio de alpha ({graph_method.upper()})\", more_better=False)"
   ],
   "id": "4b3775444c2e4b65",
   "execution_count": 22,
   "outputs": []
  },
  {
   "metadata": {
    "ExecuteTime": {
     "end_time": "2024-07-16T07:14:41.980503Z",
     "start_time": "2024-07-16T07:14:41.969153Z"
    }
   },
   "cell_type": "code",
   "source": "np.mean(mean_rankings, axis=1)",
   "id": "bcb28ffc4cb6b391",
   "execution_count": 23,
   "outputs": []
  },
  {
   "metadata": {
    "ExecuteTime": {
     "end_time": "2024-07-16T07:53:41.384805Z",
     "start_time": "2024-07-16T07:53:41.351071Z"
    }
   },
   "cell_type": "code",
   "source": [
    "directories = {\n",
    "    'i_g': 'lgc_alpha/inductive/gbili/',\n",
    "    'i_r': 'lgc_alpha/inductive/rgcli/',\n",
    "    't_g': 'lgc_alpha/transductive/gbili/',\n",
    "    't_r': 'lgc_alpha/transductive/rgcli/'\n",
    "}\n",
    "\n",
    "all_matrices = {}\n",
    "for key, directory in directories.items():\n",
    "    matrices = []\n",
    "    for filename in os.listdir(directory):\n",
    "        if not os.path.isdir(os.path.join(directory, filename)):\n",
    "            matrices.append(np.load(os.path.join(directory, filename)))\n",
    "    all_matrices[key] = np.array(matrices)\n",
    "\n",
    "all_rankings = {}\n",
    "for key, matrices in all_matrices.items():\n",
    "    rankings = []\n",
    "    for matrix in matrices:\n",
    "        rankings.append(rankdata(-matrix, axis=0))\n",
    "    all_rankings[key] = np.array(rankings)\n",
    "\n",
    "mean_rankings = {}\n",
    "for key, rankings in all_rankings.items():\n",
    "    mean_rankings[key] = np.mean(rankings, axis=0)\n",
    "\n",
    "alpha_mean_rankings = {}\n",
    "for key, mean_ranking in mean_rankings.items():\n",
    "    alpha_mean_rankings[key] = np.mean(mean_ranking, axis=1)\n",
    "\n",
    "alpha_mean_ranking_i_g = alpha_mean_rankings['i_g']\n",
    "alpha_mean_ranking_i_r = alpha_mean_rankings['i_r']\n",
    "alpha_mean_ranking_t_g = alpha_mean_rankings['t_g']\n",
    "alpha_mean_ranking_t_r = alpha_mean_rankings['t_r']"
   ],
   "id": "cf4e04a5f281f4a0",
   "execution_count": 41,
   "outputs": []
  },
  {
   "metadata": {
    "ExecuteTime": {
     "end_time": "2024-07-16T07:55:10.801123Z",
     "start_time": "2024-07-16T07:55:10.797205Z"
    }
   },
   "cell_type": "code",
   "source": "np.round(alpha_mean_ranking_i_g, 3)",
   "id": "30bdf0d6ba94cac2",
   "execution_count": 45,
   "outputs": []
  },
  {
   "metadata": {
    "ExecuteTime": {
     "end_time": "2024-07-16T07:55:12.040788Z",
     "start_time": "2024-07-16T07:55:12.037148Z"
    }
   },
   "cell_type": "code",
   "source": "np.round(alpha_mean_ranking_i_r, 3)",
   "id": "3401d0a2b5bf61a7",
   "execution_count": 46,
   "outputs": []
  },
  {
   "metadata": {
    "ExecuteTime": {
     "end_time": "2024-07-16T07:55:12.911865Z",
     "start_time": "2024-07-16T07:55:12.908905Z"
    }
   },
   "cell_type": "code",
   "source": "np.round(alpha_mean_ranking_t_g, 3)",
   "id": "69d0efba217bebb8",
   "execution_count": 47,
   "outputs": []
  },
  {
   "metadata": {
    "ExecuteTime": {
     "end_time": "2024-07-16T07:55:13.784268Z",
     "start_time": "2024-07-16T07:55:13.780740Z"
    }
   },
   "cell_type": "code",
   "source": "np.round(alpha_mean_ranking_t_r, 3)",
   "id": "82b0b49af53bd051",
   "execution_count": 48,
   "outputs": []
  },
  {
   "metadata": {},
   "cell_type": "markdown",
   "source": "## Estudiar alpha desde .8 a .99",
   "id": "959606e91987321d"
  },
  {
   "metadata": {
    "ExecuteTime": {
     "start_time": "2024-07-08T19:53:00.842263Z"
    }
   },
   "cell_type": "code",
   "source": [
    "ya_ejecutados = []\n",
    "\n",
    "for filename in os.listdir(f\"lgc_alpha/{method}/{graph_method}/8-99\"):\n",
    "    ya_ejecutados.append(os.path.splitext(filename)[0])\n",
    "\n",
    "faltan = list(set(names) - set(ya_ejecutados))\n",
    "\n",
    "for name in names:\n",
    "    estudio_lgc_alpha(name, method, graph_method, alpha_values=list(np.arange(.8,1,.01)), parallel=True, path=\"lgc_alpha/\"+ method +\"/\"+graph_method+\"/8-99/{}.npy\")"
   ],
   "id": "471a6e22de23a552",
   "execution_count": null,
   "outputs": []
  },
  {
   "metadata": {
    "ExecuteTime": {
     "end_time": "2024-07-05T09:38:34.896300Z",
     "start_time": "2024-07-05T09:38:34.888091Z"
    }
   },
   "cell_type": "code",
   "source": [
    "matrix_names_8_99 = []\n",
    "all_matrix_8_99 = []\n",
    "\n",
    "for filename in os.listdir(f\"lgc_alpha/{method}/{graph_method}/8-99\"):\n",
    "    matrix_names_8_99.append(os.path.splitext(filename)[0])\n",
    "    all_matrix_8_99.append(np.load(f\"lgc_alpha/{method}/{graph_method}/8-99/\" + filename))\n",
    "\n",
    "all_matrix_8_99 = np.array(all_matrix_8_99)\n",
    "print(all_matrix_8_99.shape)"
   ],
   "id": "95bf83fb20e42d22",
   "execution_count": 6,
   "outputs": []
  },
  {
   "metadata": {
    "ExecuteTime": {
     "end_time": "2024-07-05T09:38:36.770980Z",
     "start_time": "2024-07-05T09:38:36.474681Z"
    }
   },
   "cell_type": "code",
   "source": [
    "all_rankings_8_99 = []\n",
    "for a in all_matrix_8_99:\n",
    "    all_rankings_8_99.append(rankdata(-a, axis=0))\n",
    "\n",
    "mean_rankings_8_99 = np.mean(all_rankings_8_99, axis=0)\n",
    "alpha_heatmap(mean_rankings_8_99, f\"Estudio de alpha ({graph_method.upper()})\", more_better=False,\n",
    "              w_labels=['.99', '.98', '.97', '.96', '.95', '.94', '.93', '.92', '.91', '.90',\n",
    "                        '.89', '.88', '.87', '.86', '.85', '.84', '.83', '.82', '.81', '.80']\n",
    "              )"
   ],
   "id": "629f859224b75b49",
   "execution_count": 7,
   "outputs": []
  },
  {
   "metadata": {
    "ExecuteTime": {
     "end_time": "2024-07-05T09:38:42.228539Z",
     "start_time": "2024-07-05T09:38:42.223638Z"
    }
   },
   "cell_type": "code",
   "source": "np.mean(mean_rankings_8_99, axis=1)",
   "id": "c08adb83e4a9b5d1",
   "execution_count": 8,
   "outputs": []
  }
 ],
 "metadata": {
  "kernelspec": {
   "display_name": "Python 3",
   "language": "python",
   "name": "python3"
  },
  "language_info": {
   "codemirror_mode": {
    "name": "ipython",
    "version": 2
   },
   "file_extension": ".py",
   "mimetype": "text/x-python",
   "name": "python",
   "nbconvert_exporter": "python",
   "pygments_lexer": "ipython2",
   "version": "2.7.6"
  }
 },
 "nbformat": 4,
 "nbformat_minor": 5
}
