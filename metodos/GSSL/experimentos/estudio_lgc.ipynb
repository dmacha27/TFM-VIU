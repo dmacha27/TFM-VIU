{
 "cells": [
  {
   "metadata": {},
   "cell_type": "markdown",
   "source": [
    "# Estudio hiperparámetros LGC\n",
    "\n",
    "\"Learning with local and global consistency\" by Dengyong Zhou, Olivier Bousquet, Thomas Lal, Jason Weston, and Bernhard Schölkopf. Published in Advances in Neural Information Processing Systems, Volume 16, 2003.\n",
    "\n",
    "Como indican en su estudio, el parámetro alpha lo fijan en 0.99"
   ],
   "id": "3023f62f798cd647"
  },
  {
   "metadata": {
    "ExecuteTime": {
     "end_time": "2024-06-25T08:02:18.768495Z",
     "start_time": "2024-06-25T08:02:13.415146Z"
    }
   },
   "cell_type": "code",
   "source": [
    "from metodos.GSSL.utils.Experiments import estudio_lgc_alpha, alpha_heatmap, names\n",
    "import numpy as np\n",
    "import os\n",
    "from scipy.stats import rankdata"
   ],
   "id": "9304e210b7ae7d02",
   "outputs": [],
   "execution_count": 1
  },
  {
   "metadata": {
    "ExecuteTime": {
     "end_time": "2024-06-25T09:09:45.078568Z",
     "start_time": "2024-06-25T08:02:21.552436Z"
    }
   },
   "cell_type": "code",
   "source": [
    "for name in names:\n",
    "    estudio_lgc_alpha(name, parallel=True)"
   ],
   "id": "4aa894f95adfbd5e",
   "outputs": [
    {
     "name": "stdout",
     "output_type": "stream",
     "text": [
      "Dataset: appendicitis P: 10 - DONE\n",
      "Dataset: appendicitis P: 20 - DONE\n",
      "Dataset: appendicitis P: 30 - DONE\n",
      "Dataset: appendicitis P: 40 - DONE\n",
      "appendicitis saved\n",
      "Dataset: australian P: 10 - DONE\n",
      "Dataset: australian P: 20 - DONE\n",
      "Dataset: australian P: 30 - DONE\n",
      "Dataset: australian P: 40 - DONE\n",
      "australian saved\n",
      "Dataset: bupa P: 10 - DONE\n",
      "Dataset: bupa P: 20 - DONE\n",
      "Dataset: bupa P: 30 - DONE\n",
      "Dataset: bupa P: 40 - DONE\n",
      "bupa saved\n",
      "Dataset: cleveland P: 10 - DONE\n",
      "Dataset: cleveland P: 20 - DONE\n",
      "Dataset: cleveland P: 30 - DONE\n",
      "Dataset: cleveland P: 40 - DONE\n",
      "cleveland saved\n",
      "Dataset: contraceptive P: 10 - DONE\n",
      "Dataset: contraceptive P: 20 - DONE\n",
      "Dataset: contraceptive P: 30 - DONE\n",
      "Dataset: contraceptive P: 40 - DONE\n",
      "contraceptive saved\n",
      "Dataset: dermatology P: 10 - DONE\n",
      "Dataset: dermatology P: 20 - DONE\n",
      "Dataset: dermatology P: 30 - DONE\n",
      "Dataset: dermatology P: 40 - DONE\n",
      "dermatology saved\n",
      "Dataset: ecoli P: 10 - DONE\n",
      "Dataset: ecoli P: 20 - DONE\n",
      "Dataset: ecoli P: 30 - DONE\n",
      "Dataset: ecoli P: 40 - DONE\n",
      "ecoli saved\n",
      "Dataset: flare P: 10 - DONE\n",
      "Dataset: flare P: 20 - DONE\n",
      "Dataset: flare P: 30 - DONE\n",
      "Dataset: flare P: 40 - DONE\n",
      "flare saved\n",
      "Dataset: german P: 10 - DONE\n",
      "Dataset: german P: 20 - DONE\n",
      "Dataset: german P: 30 - DONE\n",
      "Dataset: german P: 40 - DONE\n",
      "german saved\n",
      "Dataset: glass P: 10 - DONE\n",
      "Dataset: glass P: 20 - DONE\n",
      "Dataset: glass P: 30 - DONE\n",
      "Dataset: glass P: 40 - DONE\n",
      "glass saved\n",
      "Dataset: haberman P: 10 - DONE\n",
      "Dataset: haberman P: 20 - DONE\n",
      "Dataset: haberman P: 30 - DONE\n",
      "Dataset: haberman P: 40 - DONE\n",
      "haberman saved\n",
      "Dataset: heart P: 10 - DONE\n",
      "Dataset: heart P: 20 - DONE\n",
      "Dataset: heart P: 30 - DONE\n",
      "Dataset: heart P: 40 - DONE\n",
      "heart saved\n",
      "Dataset: hepatitis P: 10 - DONE\n",
      "Dataset: hepatitis P: 20 - DONE\n",
      "Dataset: hepatitis P: 30 - DONE\n",
      "Dataset: hepatitis P: 40 - DONE\n",
      "hepatitis saved\n",
      "Dataset: iris P: 10 - DONE\n",
      "Dataset: iris P: 20 - DONE\n",
      "Dataset: iris P: 30 - DONE\n",
      "Dataset: iris P: 40 - DONE\n",
      "iris saved\n",
      "Dataset: led7digit P: 10 - DONE\n",
      "Dataset: led7digit P: 20 - DONE\n",
      "Dataset: led7digit P: 30 - DONE\n",
      "Dataset: led7digit P: 40 - DONE\n",
      "led7digit saved\n",
      "Dataset: monk-2 P: 10 - DONE\n",
      "Dataset: monk-2 P: 20 - DONE\n",
      "Dataset: monk-2 P: 30 - DONE\n",
      "Dataset: monk-2 P: 40 - DONE\n",
      "monk-2 saved\n",
      "Dataset: saheart P: 10 - DONE\n",
      "Dataset: saheart P: 20 - DONE\n",
      "Dataset: saheart P: 30 - DONE\n",
      "Dataset: saheart P: 40 - DONE\n",
      "saheart saved\n",
      "Dataset: tae P: 10 - DONE\n",
      "Dataset: tae P: 20 - DONE\n",
      "Dataset: tae P: 30 - DONE\n",
      "Dataset: tae P: 40 - DONE\n",
      "tae saved\n",
      "Dataset: vehicle P: 10 - DONE\n",
      "Dataset: vehicle P: 20 - DONE\n",
      "Dataset: vehicle P: 30 - DONE\n",
      "Dataset: vehicle P: 40 - DONE\n",
      "vehicle saved\n",
      "Dataset: wine P: 10 - DONE\n",
      "Dataset: wine P: 20 - DONE\n",
      "Dataset: wine P: 30 - DONE\n",
      "Dataset: wine P: 40 - DONE\n",
      "wine saved\n",
      "Dataset: wisconsin P: 10 - DONE\n",
      "Dataset: wisconsin P: 20 - DONE\n",
      "Dataset: wisconsin P: 30 - DONE\n",
      "Dataset: wisconsin P: 40 - DONE\n",
      "wisconsin saved\n",
      "Dataset: yeast P: 10 - DONE\n",
      "Dataset: yeast P: 20 - DONE\n",
      "Dataset: yeast P: 30 - DONE\n",
      "Dataset: yeast P: 40 - DONE\n",
      "yeast saved\n",
      "Dataset: zoo P: 10 - DONE\n",
      "Dataset: zoo P: 20 - DONE\n",
      "Dataset: zoo P: 30 - DONE\n",
      "Dataset: zoo P: 40 - DONE\n",
      "zoo saved\n"
     ]
    }
   ],
   "execution_count": 2
  },
  {
   "metadata": {
    "ExecuteTime": {
     "end_time": "2024-06-25T09:12:52.507698Z",
     "start_time": "2024-06-25T09:12:52.424880Z"
    }
   },
   "cell_type": "code",
   "source": [
    "matrix_names = []\n",
    "all_matrix = []\n",
    "\n",
    "for filename in os.listdir(f\"lgc_alpha/\"):\n",
    "    if not os.path.isdir(f\"lgc_alpha/\" + filename):\n",
    "        matrix_names.append(os.path.splitext(filename)[0])\n",
    "        all_matrix.append(np.load(f\"lgc_alpha/\" + filename))\n",
    "\n",
    "all_matrix = np.array(all_matrix)\n",
    "print(all_matrix.shape)"
   ],
   "id": "ce8205c5eb02e929",
   "outputs": [
    {
     "name": "stdout",
     "output_type": "stream",
     "text": [
      "(23, 10, 4)\n"
     ]
    }
   ],
   "execution_count": 9
  },
  {
   "metadata": {
    "ExecuteTime": {
     "end_time": "2024-06-25T09:12:54.905799Z",
     "start_time": "2024-06-25T09:12:54.664101Z"
    }
   },
   "cell_type": "code",
   "source": [
    "all_rankings = []\n",
    "for a in all_matrix:\n",
    "    all_rankings.append(rankdata(-a, axis=0))\n",
    "\n",
    "mean_rankings = np.mean(all_rankings, axis=0)\n",
    "alpha_heatmap(mean_rankings, \"Estudio de alpha (rankings)\", more_better=False)"
   ],
   "id": "4b3775444c2e4b65",
   "outputs": [
    {
     "data": {
      "text/plain": [
       "<Figure size 400x500 with 2 Axes>"
      ],
      "image/png": "[encoded data removed]"
     },
     "metadata": {},
     "output_type": "display_data"
    }
   ],
   "execution_count": 10
  },
  {
   "metadata": {
    "ExecuteTime": {
     "end_time": "2024-06-25T09:13:00.925128Z",
     "start_time": "2024-06-25T09:13:00.917803Z"
    }
   },
   "cell_type": "code",
   "source": "np.mean(mean_rankings, axis=1)",
   "id": "bcb28ffc4cb6b391",
   "outputs": [
    {
     "data": {
      "text/plain": [
       "array([4.82065217, 4.51630435, 4.71195652, 5.33695652, 5.86956522,\n",
       "       5.94565217, 5.97826087, 5.88586957, 5.98913043, 5.94565217])"
      ]
     },
     "execution_count": 15,
     "metadata": {},
     "output_type": "execute_result"
    }
   ],
   "execution_count": 15
  },
  {
   "metadata": {},
   "cell_type": "code",
   "outputs": [],
   "execution_count": null,
   "source": "",
   "id": "77b4aefb3e6fb5a"
  },
  {
   "metadata": {},
   "cell_type": "markdown",
   "source": "## Estudiar alpha desde .8 a .99",
   "id": "959606e91987321d"
  },
  {
   "metadata": {
    "jupyter": {
     "is_executing": true
    },
    "ExecuteTime": {
     "start_time": "2024-06-25T09:21:58.956234Z"
    }
   },
   "cell_type": "code",
   "source": [
    "for name in names:\n",
    "    estudio_lgc_alpha(name, alpha_values=list(np.arange(.8,1,.01)), parallel=True, path=\"../experimentos/lgc_alpha/8-99/{}.npy\")"
   ],
   "id": "471a6e22de23a552",
   "outputs": [
    {
     "name": "stdout",
     "output_type": "stream",
     "text": [
      "Dataset: appendicitis P: 10 - DONE\n",
      "Dataset: appendicitis P: 20 - DONE\n",
      "Dataset: appendicitis P: 30 - DONE\n",
      "Dataset: appendicitis P: 40 - DONE\n",
      "appendicitis saved\n"
     ]
    }
   ],
   "execution_count": null
  },
  {
   "metadata": {},
   "cell_type": "code",
   "outputs": [],
   "execution_count": null,
   "source": [
    "matrix_names_8_99 = []\n",
    "all_matrix_8_99 = []\n",
    "\n",
    "for filename in os.listdir(f\"lgc_alpha/8-99\"):\n",
    "    matrix_names_8_99.append(os.path.splitext(filename)[0])\n",
    "    all_matrix_8_99.append(np.load(f\"lgc_alpha/8-99/\" + filename))\n",
    "\n",
    "all_matrix_8_99 = np.array(all_matrix_8_99)\n",
    "print(all_matrix_8_99.shape)"
   ],
   "id": "95bf83fb20e42d22"
  },
  {
   "metadata": {},
   "cell_type": "code",
   "outputs": [],
   "execution_count": null,
   "source": [
    "all_rankings_8_99 = []\n",
    "for a in all_rankings_8_99:\n",
    "    all_rankings_8_99.append(rankdata(-a, axis=0))\n",
    "\n",
    "mean_rankings_8_99 = np.mean(all_rankings_8_99, axis=0)\n",
    "alpha_heatmap(mean_rankings_8_99, \"Estudio de alpha (rankings)\", more_better=False,\n",
    "              w_labels=['.80', '.81', '.82', '.83', '.84', '.85', '.86', '.87', '.88', '.89',\n",
    "                        '.90', '.91', '.92', '.93', '.94', '.95', '.96', '.97', '.98', '.99'])"
   ],
   "id": "629f859224b75b49"
  }
 ],
 "metadata": {
  "kernelspec": {
   "display_name": "Python 3",
   "language": "python",
   "name": "python3"
  },
  "language_info": {
   "codemirror_mode": {
    "name": "ipython",
    "version": 2
   },
   "file_extension": ".py",
   "mimetype": "text/x-python",
   "name": "python",
   "nbconvert_exporter": "python",
   "pygments_lexer": "ipython2",
   "version": "2.7.6"
  }
 },
 "nbformat": 4,
 "nbformat_minor": 5
}
