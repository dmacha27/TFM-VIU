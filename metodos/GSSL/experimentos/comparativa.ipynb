{
 "cells": [
  {
   "metadata": {
    "ExecuteTime": {
     "end_time": "2024-06-19T09:38:39.835532Z",
     "start_time": "2024-06-19T09:38:38.596339Z"
    }
   },
   "cell_type": "code",
   "source": [
    "from metodos.GSSL.utils.Experiments import cross_val,names\n",
    "\n",
    "from scipy.stats import rankdata\n",
    "import numpy as np\n",
    "import warnings\n",
    "import pandas as pd\n",
    "import matplotlib.pyplot as plt\n",
    "import scikit_posthocs as sp\n"
   ],
   "id": "3613dfe07491ca4d",
   "execution_count": 1,
   "outputs": []
  },
  {
   "metadata": {},
   "cell_type": "markdown",
   "source": "# Comparativa entre RGCLI, GBILI, KNN y SelfTraining",
   "id": "aa011e02d2a23d1d"
  },
  {
   "metadata": {
    "ExecuteTime": {
     "end_time": "2024-06-19T09:43:56.909513Z",
     "start_time": "2024-06-19T09:39:34.374530Z"
    }
   },
   "cell_type": "code",
   "source": [
    "\n",
    "method = \"rgcli\"\n",
    "graph_method = \"transductive\"\n",
    "\n",
    "all_means = {}\n",
    "\n",
    "for i, p in enumerate([\"10\", \"20\", \"30\", \"40\"]):\n",
    "    print(\"PERCENTAGE:\", p)\n",
    "    means = []\n",
    "\n",
    "    for name in names:\n",
    "        print(\"\\tDATASET:\", name)\n",
    "        m = cross_val(name, p, method=method, graph_method=graph_method)\n",
    "        \n",
    "        if method == \"gbili\" or method == \"rgcli\":\n",
    "            np.save(f\"comparativa/{method}/{graph_method}/{p}/{name}_mean.npy\", np.array(m))\n",
    "        else:\n",
    "            np.save(f\"comparativa/{method}/{p}/{name}_mean.npy\", np.array(m))\n",
    "\n",
    "        means.append(m)\n",
    "\n",
    "    all_means[p] = np.array(means)\n",
    "    \n",
    "if method == \"gbili\" or method == \"rgcli\":\n",
    "    np.save(f\"comparativa/{method}/{graph_method}/all_means.npy\", all_means)\n",
    "else:\n",
    "    np.save(f\"comparativa/{method}/all_means.npy\", all_means)\n",
    "print(\"Resultados guardados\")"
   ],
   "id": "initial_id",
   "execution_count": 3,
   "outputs": []
  },
  {
   "metadata": {},
   "cell_type": "markdown",
   "source": "## Transductive",
   "id": "e267aa04ff656654"
  },
  {
   "metadata": {
    "ExecuteTime": {
     "end_time": "2024-06-19T09:44:02.684082Z",
     "start_time": "2024-06-19T09:44:02.676741Z"
    }
   },
   "cell_type": "code",
   "source": [
    "import os\n",
    "\n",
    "knn = \"comparativa/knn/all_means.npy\"\n",
    "selftraining = \"comparativa/selftraining/all_means.npy\"\n",
    "gbili = \"comparativa/gbili/transductive/all_means.npy\"\n",
    "rgcli = \"comparativa/rgcli/transductive/all_means.npy\"\n",
    "\n",
    "all_methods_means = {}\n",
    "\n",
    "methods_means = []\n",
    "for path in [knn, selftraining, gbili, rgcli]:\n",
    "    if os.path.exists(path):\n",
    "        methods_means.append(np.load(path, allow_pickle=True).item())\n",
    "\n",
    "for i, p in enumerate([\"10\", \"20\", \"30\", \"40\"]):\n",
    "    to_stack = []\n",
    "    for means in methods_means:\n",
    "        to_stack.append(means[p])\n",
    "        \n",
    "    all_methods_means[p] = np.stack(to_stack)    \n",
    "\n",
    "all_mean_rankings = np.empty((len(methods_means), 4))\n",
    "\n",
    "for i, p in enumerate([\"10\", \"20\", \"30\", \"40\"]):\n",
    "    rankings = rankdata(-all_methods_means[p], method=\"average\", axis=0)\n",
    "\n",
    "    all_mean_rankings[:, i] = np.mean(rankings, axis=1)"
   ],
   "id": "fc02dd564cbefea9",
   "execution_count": 4,
   "outputs": []
  },
  {
   "metadata": {
    "ExecuteTime": {
     "end_time": "2024-06-19T09:50:34.391688Z",
     "start_time": "2024-06-19T09:50:34.275588Z"
    }
   },
   "cell_type": "code",
   "source": [
    "plt.figure(figsize=(10, 6))\n",
    "\n",
    "classifiers = [\"KNN\", \"SelfTraining\", \"GBILI\", \"RGCLI\"]\n",
    "for j, classifier in enumerate(classifiers):\n",
    "    print(all_mean_rankings[j])\n",
    "    plt.plot([\"10%\", \"20%\", \"30%\", \"40%\"], all_mean_rankings[j], marker=\"o\", label=classifier)\n",
    "\n",
    "plt.ylim(1, 4)\n",
    "plt.xlabel(\"Porentaje de etiquetados\")\n",
    "plt.ylabel(\"Ranking\")\n",
    "plt.title(\"Comparativa KNN, ST, GBILI y RGCLI\")\n",
    "\n",
    "plt.legend()\n",
    "plt.show()"
   ],
   "id": "5ab52253a360fad0",
   "execution_count": 12,
   "outputs": []
  },
  {
   "metadata": {
    "ExecuteTime": {
     "end_time": "2024-06-19T09:47:36.224495Z",
     "start_time": "2024-06-19T09:47:36.217239Z"
    }
   },
   "cell_type": "code",
   "source": [
    "def nemenyi_test(matrix, p, model_names):\n",
    "\n",
    "    dict_data = {\n",
    "        model_names[0]: matrix[0, :],\n",
    "        model_names[1]: matrix[1, :],\n",
    "        model_names[2]: matrix[2, :],\n",
    "        model_names[3]: matrix[3, :]\n",
    "    }\n",
    "    \n",
    "    data_list = [dict_data[key] for key in dict_data]\n",
    "\n",
    "    results = np.array(data_list).T\n",
    "\n",
    "    nemenyi_result = sp.posthoc_nemenyi_friedman(results)\n",
    "    \n",
    "    colors = {\n",
    "        model_names[0]: \"#1f77b4\",\n",
    "        model_names[1]: \"#ff7f0e\",\n",
    "        model_names[2]: \"#2ca02c\",\n",
    "        model_names[3]: \"#d62728\"\n",
    "    }\n",
    "    \n",
    "    ranks = pd.DataFrame(-results).rank(axis=1, method='average').mean(axis=0)\n",
    "    ranks.index = list(dict_data.keys())\n",
    "    with warnings.catch_warnings():\n",
    "        warnings.simplefilter(\"ignore\")\n",
    "        plt.figure(figsize=(10, 2), dpi=100)\n",
    "        plt.title(\"Nemenyi Test para \" + p + \" de etiquetados\", pad=10)\n",
    "        sp.critical_difference_diagram(ranks, nemenyi_result, label_fmt_left='{label} [{rank:.3f}]  ',\n",
    "                                       label_fmt_right='  [{rank:.3f}] {label}', color_palette=colors)\n",
    "        plt.show()"
   ],
   "id": "628d8115dd470760",
   "execution_count": 10,
   "outputs": []
  },
  {
   "metadata": {
    "ExecuteTime": {
     "end_time": "2024-06-19T09:47:45.533774Z",
     "start_time": "2024-06-19T09:47:44.928325Z"
    }
   },
   "cell_type": "code",
   "source": [
    "nemenyi_test(all_methods_means[\"10\"], \"10%\", [\"KNN\", \"SelfTraining\", \"GBILI\", \"RGCLI\"])\n",
    "nemenyi_test(all_methods_means[\"20\"], \"20%\", [\"KNN\", \"SelfTraining\", \"GBILI\", \"RGCLI\"])\n",
    "nemenyi_test(all_methods_means[\"30\"], \"30%\", [\"KNN\", \"SelfTraining\", \"GBILI\", \"RGCLI\"])\n",
    "nemenyi_test(all_methods_means[\"40\"], \"40%\", [\"KNN\", \"SelfTraining\", \"GBILI\", \"RGCLI\"])"
   ],
   "id": "850e4ac3f4c33b61",
   "execution_count": 11,
   "outputs": []
  }
 ],
 "metadata": {
  "kernelspec": {
   "display_name": "Python 3",
   "language": "python",
   "name": "python3"
  },
  "language_info": {
   "codemirror_mode": {
    "name": "ipython",
    "version": 2
   },
   "file_extension": ".py",
   "mimetype": "text/x-python",
   "name": "python",
   "nbconvert_exporter": "python",
   "pygments_lexer": "ipython2",
   "version": "2.7.6"
  }
 },
 "nbformat": 4,
 "nbformat_minor": 5
}
